{
  "cells": [
    {
      "cell_type": "markdown",
      "metadata": {
        "id": "cv50IfP7AW3w"
      },
      "source": [
        "# Neural Cleanse 实现代码【pytorch】"
      ]
    },
    {
      "cell_type": "code",
      "execution_count": 1,
      "metadata": {
        "colab": {
          "base_uri": "https://localhost:8080/"
        },
        "id": "01972V6ygj9d",
        "outputId": "a17a5863-1340-4c18-b284-747a04ab4906"
      },
      "outputs": [],
      "source": [
        "#!git clone https://github.com/tonggege001/MyNeuralCleanse.git"
      ]
    },
    {
      "cell_type": "code",
      "execution_count": 2,
      "metadata": {
        "id": "pADQ9BiP2ezj"
      },
      "outputs": [
        {
          "name": "stderr",
          "output_type": "stream",
          "text": [
            "2024-10-14 15:38:28.210593: I tensorflow/core/util/port.cc:153] oneDNN custom operations are on. You may see slightly different numerical results due to floating-point round-off errors from different computation orders. To turn them off, set the environment variable `TF_ENABLE_ONEDNN_OPTS=0`.\n",
            "2024-10-14 15:38:28.220496: E external/local_xla/xla/stream_executor/cuda/cuda_fft.cc:485] Unable to register cuFFT factory: Attempting to register factory for plugin cuFFT when one has already been registered\n",
            "2024-10-14 15:38:28.233396: E external/local_xla/xla/stream_executor/cuda/cuda_dnn.cc:8454] Unable to register cuDNN factory: Attempting to register factory for plugin cuDNN when one has already been registered\n",
            "2024-10-14 15:38:28.237095: E external/local_xla/xla/stream_executor/cuda/cuda_blas.cc:1452] Unable to register cuBLAS factory: Attempting to register factory for plugin cuBLAS when one has already been registered\n",
            "2024-10-14 15:38:28.246706: I tensorflow/core/platform/cpu_feature_guard.cc:210] This TensorFlow binary is optimized to use available CPU instructions in performance-critical operations.\n",
            "To enable the following instructions: AVX2 AVX_VNNI FMA, in other operations, rebuild TensorFlow with the appropriate compiler flags.\n",
            "2024-10-14 15:38:29.031309: W tensorflow/compiler/tf2tensorrt/utils/py_utils.cc:38] TF-TRT Warning: Could not find TensorRT\n"
          ]
        }
      ],
      "source": [
        "import os\n",
        "os.chdir(\"./NeuralCleanse_Torch\")\n",
        "\n",
        "import torch\n",
        "import numpy as np\n",
        "from torch.nn import CrossEntropyLoss\n",
        "import tqdm\n",
        "from torch.utils.data import DataLoader, TensorDataset\n",
        "import matplotlib.pyplot as plt\n",
        "from data import get_data\n",
        "\n",
        "device = torch.device(\"cuda:0\" if torch.cuda.is_available() else \"cpu\")"
      ]
    },
    {
      "cell_type": "markdown",
      "metadata": {
        "id": "Uq8yvJL8ABMA"
      },
      "source": [
        "## 模型逆向\n",
        "对每个标签依次优化mask，使得训练集图片加上mask之后能分到该标签"
      ]
    },
    {
      "cell_type": "code",
      "execution_count": 3,
      "metadata": {
        "id": "K2CbJd14hDDf"
      },
      "outputs": [],
      "source": [
        "\n",
        "def train(model, target_label, train_loader, param):\n",
        "    \"\"\"对某一target_label的逆向trigger过程\"\"\"\n",
        "\n",
        "    print(\"\\nProcessing label: {}\".format(target_label))\n",
        "\n",
        "    # 设置初始的随机trigger，以及mask\n",
        "    width, height = param[\"image_size\"]\n",
        "    trigger = torch.rand((3, width, height), requires_grad=True)\n",
        "    trigger = trigger.to(device).detach().requires_grad_(True)\n",
        "    mask = torch.rand((width, height), requires_grad=True)  \n",
        "    mask = mask.to(device).detach().requires_grad_(True)\n",
        "\n",
        "    # 优化器的优化参数为trigger以及mask\n",
        "    optimizer = torch.optim.Adam([{\"params\": trigger},{\"params\": mask}],lr=0.005)\n",
        "    criterion = CrossEntropyLoss()\n",
        "    model.to(device)\n",
        "    model.eval()\n",
        "\n",
        "    # 训练参数\n",
        "    Epochs = param[\"Epochs\"]\n",
        "    lamda = param[\"lamda\"]\n",
        "\n",
        "    # 记录mask的norm值，初始值为无穷大\n",
        "    min_norm = np.inf \n",
        "    min_norm_count = 0\n",
        "\n",
        "    # 遍历训练集数据，训练Epochs轮\n",
        "    for epoch in range(Epochs):\n",
        "        norm = 0.0\n",
        "        for images, _ in tqdm.tqdm(train_loader, desc='Epoch %3d' % (epoch + 1)):\n",
        "            optimizer.zero_grad()\n",
        "            images = images.to(device)\n",
        "\n",
        "            # 把trigger和mask添加到图片上\n",
        "            trojan_images = (1 - torch.unsqueeze(mask, dim=0)) * images + torch.unsqueeze(mask, dim=0) * trigger\n",
        "            \n",
        "            # 一般训练过程\n",
        "            y_pred = model(trojan_images)\n",
        "            y_target = torch.full((y_pred.size(0),), target_label, dtype=torch.long).to(device)\n",
        "            loss = criterion(y_pred, y_target) + lamda * torch.sum(torch.abs(mask))\n",
        "            loss.backward()\n",
        "            optimizer.step()\n",
        "\n",
        "            # 计算mask的norm\n",
        "            with torch.no_grad():\n",
        "                # 防止trigger和norm越界\n",
        "                torch.clip_(trigger, 0, 1)\n",
        "                torch.clip_(mask, 0, 1)\n",
        "                norm = torch.sum(torch.abs(mask))\n",
        "        print(\"norm: {}\".format(norm))\n",
        "\n",
        "        # early stop\n",
        "        if norm < min_norm:\n",
        "            min_norm = norm\n",
        "            min_norm_count = 0\n",
        "        else:\n",
        "            min_norm_count += 1\n",
        "\n",
        "        if min_norm_count > 5:\n",
        "            break\n",
        "\n",
        "    return trigger.cpu(), mask.cpu()\n",
        "\n",
        "\n",
        "\n",
        "def reverse_engineer():\n",
        "    param = {\n",
        "        \"dataset\": \"cifar10\",\n",
        "        \"Epochs\": 20,  # 每个类别进行trigger逆向训练的轮数\n",
        "        \"batch_size\": 64,\n",
        "        \"lamda\": 0.01,\n",
        "        \"num_classes\": 10,\n",
        "        \"image_size\": (32, 32)\n",
        "    }\n",
        "\n",
        "    # 加载模型和数据集\n",
        "    model = torch.load('model_cifar10.pkl', weights_only=False).to(device)\n",
        "    _, _, x_test, y_test = get_data(param)\n",
        "    x_test, y_test = torch.from_numpy(x_test)/255., torch.from_numpy(y_test)\n",
        "    train_loader = DataLoader(TensorDataset(x_test, y_test), batch_size=param[\"batch_size\"], shuffle=False)\n",
        "    \n",
        "    # 开始逆向，依次遍历每个标签 \n",
        "    norm_list = []\n",
        "    for label in range(param[\"num_classes\"]):\n",
        "        # 对每个标签，逆向对应的trigger和mask\n",
        "        trigger, mask = train(model, label, train_loader, param)\n",
        "        norm_list.append(mask.sum().item())\n",
        "\n",
        "        # 将逆向出的trigger和mask图像保存\n",
        "        trigger = trigger.cpu().detach().numpy()\n",
        "        trigger = np.transpose(trigger, (1,2,0))\n",
        "        plt.axis(\"off\")\n",
        "        plt.imshow(trigger)\n",
        "        plt.savefig('mask/trigger_{}.png'.format(label), bbox_inches='tight', pad_inches=0.0)\n",
        "\n",
        "        mask = mask.cpu().detach().numpy()\n",
        "        plt.axis(\"off\")\n",
        "        plt.imshow(mask)\n",
        "        plt.savefig('mask/mask_{}.png'.format(label), bbox_inches='tight', pad_inches=0.0)\n",
        "\n",
        "    print(norm_list)\n"
      ]
    },
    {
      "cell_type": "code",
      "execution_count": 4,
      "metadata": {
        "colab": {
          "base_uri": "https://localhost:8080/",
          "height": 1000
        },
        "id": "Y8oI6-Al2KDp",
        "outputId": "d4f2de8e-86e2-4e51-9ef0-76dd97dc2332"
      },
      "outputs": [
        {
          "name": "stdout",
          "output_type": "stream",
          "text": [
            "Downloading data from https://www.cs.toronto.edu/~kriz/cifar-10-python.tar.gz\n",
            "\u001b[1m170498071/170498071\u001b[0m \u001b[32m━━━━━━━━━━━━━━━━━━━━\u001b[0m\u001b[37m\u001b[0m \u001b[1m120s\u001b[0m 1us/step\n",
            "\n",
            "Processing label: 0\n"
          ]
        },
        {
          "name": "stderr",
          "output_type": "stream",
          "text": [
            "Epoch   1: 100%|██████████| 157/157 [00:00<00:00, 168.11it/s]\n"
          ]
        },
        {
          "name": "stdout",
          "output_type": "stream",
          "text": [
            "norm: 344.9391174316406\n"
          ]
        },
        {
          "name": "stderr",
          "output_type": "stream",
          "text": [
            "Epoch   2: 100%|██████████| 157/157 [00:00<00:00, 200.17it/s]\n"
          ]
        },
        {
          "name": "stdout",
          "output_type": "stream",
          "text": [
            "norm: 171.0764617919922\n"
          ]
        },
        {
          "name": "stderr",
          "output_type": "stream",
          "text": [
            "Epoch   3: 100%|██████████| 157/157 [00:00<00:00, 186.01it/s]\n"
          ]
        },
        {
          "name": "stdout",
          "output_type": "stream",
          "text": [
            "norm: 94.22945404052734\n"
          ]
        },
        {
          "name": "stderr",
          "output_type": "stream",
          "text": [
            "Epoch   4: 100%|██████████| 157/157 [00:00<00:00, 221.20it/s]\n"
          ]
        },
        {
          "name": "stdout",
          "output_type": "stream",
          "text": [
            "norm: 66.65824127197266\n"
          ]
        },
        {
          "name": "stderr",
          "output_type": "stream",
          "text": [
            "Epoch   5: 100%|██████████| 157/157 [00:00<00:00, 209.20it/s]\n"
          ]
        },
        {
          "name": "stdout",
          "output_type": "stream",
          "text": [
            "norm: 53.65497970581055\n"
          ]
        },
        {
          "name": "stderr",
          "output_type": "stream",
          "text": [
            "Epoch   6: 100%|██████████| 157/157 [00:00<00:00, 221.22it/s]\n"
          ]
        },
        {
          "name": "stdout",
          "output_type": "stream",
          "text": [
            "norm: 46.42060852050781\n"
          ]
        },
        {
          "name": "stderr",
          "output_type": "stream",
          "text": [
            "Epoch   7: 100%|██████████| 157/157 [00:00<00:00, 188.56it/s]\n"
          ]
        },
        {
          "name": "stdout",
          "output_type": "stream",
          "text": [
            "norm: 43.38617706298828\n"
          ]
        },
        {
          "name": "stderr",
          "output_type": "stream",
          "text": [
            "Epoch   8: 100%|██████████| 157/157 [00:00<00:00, 204.55it/s]\n"
          ]
        },
        {
          "name": "stdout",
          "output_type": "stream",
          "text": [
            "norm: 41.814205169677734\n"
          ]
        },
        {
          "name": "stderr",
          "output_type": "stream",
          "text": [
            "Epoch   9: 100%|██████████| 157/157 [00:00<00:00, 223.67it/s]\n"
          ]
        },
        {
          "name": "stdout",
          "output_type": "stream",
          "text": [
            "norm: 40.15926742553711\n"
          ]
        },
        {
          "name": "stderr",
          "output_type": "stream",
          "text": [
            "Epoch  10: 100%|██████████| 157/157 [00:00<00:00, 196.24it/s]\n"
          ]
        },
        {
          "name": "stdout",
          "output_type": "stream",
          "text": [
            "norm: 39.19778060913086\n"
          ]
        },
        {
          "name": "stderr",
          "output_type": "stream",
          "text": [
            "Epoch  11: 100%|██████████| 157/157 [00:00<00:00, 209.14it/s]\n"
          ]
        },
        {
          "name": "stdout",
          "output_type": "stream",
          "text": [
            "norm: 38.958518981933594\n"
          ]
        },
        {
          "name": "stderr",
          "output_type": "stream",
          "text": [
            "Epoch  12: 100%|██████████| 157/157 [00:00<00:00, 214.09it/s]\n"
          ]
        },
        {
          "name": "stdout",
          "output_type": "stream",
          "text": [
            "norm: 38.68577194213867\n"
          ]
        },
        {
          "name": "stderr",
          "output_type": "stream",
          "text": [
            "Epoch  13: 100%|██████████| 157/157 [00:00<00:00, 162.60it/s]\n"
          ]
        },
        {
          "name": "stdout",
          "output_type": "stream",
          "text": [
            "norm: 38.20472717285156\n"
          ]
        },
        {
          "name": "stderr",
          "output_type": "stream",
          "text": [
            "Epoch  14: 100%|██████████| 157/157 [00:00<00:00, 191.94it/s]\n"
          ]
        },
        {
          "name": "stdout",
          "output_type": "stream",
          "text": [
            "norm: 37.95341491699219\n"
          ]
        },
        {
          "name": "stderr",
          "output_type": "stream",
          "text": [
            "Epoch  15: 100%|██████████| 157/157 [00:00<00:00, 166.97it/s]\n"
          ]
        },
        {
          "name": "stdout",
          "output_type": "stream",
          "text": [
            "norm: 37.737213134765625\n"
          ]
        },
        {
          "name": "stderr",
          "output_type": "stream",
          "text": [
            "Epoch  16: 100%|██████████| 157/157 [00:00<00:00, 221.16it/s]\n"
          ]
        },
        {
          "name": "stdout",
          "output_type": "stream",
          "text": [
            "norm: 37.44322967529297\n"
          ]
        },
        {
          "name": "stderr",
          "output_type": "stream",
          "text": [
            "Epoch  17: 100%|██████████| 157/157 [00:00<00:00, 203.33it/s]\n"
          ]
        },
        {
          "name": "stdout",
          "output_type": "stream",
          "text": [
            "norm: 37.26314926147461\n"
          ]
        },
        {
          "name": "stderr",
          "output_type": "stream",
          "text": [
            "Epoch  18: 100%|██████████| 157/157 [00:00<00:00, 196.47it/s]\n"
          ]
        },
        {
          "name": "stdout",
          "output_type": "stream",
          "text": [
            "norm: 37.10655212402344\n"
          ]
        },
        {
          "name": "stderr",
          "output_type": "stream",
          "text": [
            "Epoch  19: 100%|██████████| 157/157 [00:00<00:00, 204.32it/s]\n"
          ]
        },
        {
          "name": "stdout",
          "output_type": "stream",
          "text": [
            "norm: 37.05293655395508\n"
          ]
        },
        {
          "name": "stderr",
          "output_type": "stream",
          "text": [
            "Epoch  20: 100%|██████████| 157/157 [00:00<00:00, 219.92it/s]\n"
          ]
        },
        {
          "name": "stdout",
          "output_type": "stream",
          "text": [
            "norm: 37.03380584716797\n",
            "\n",
            "Processing label: 1\n"
          ]
        },
        {
          "name": "stderr",
          "output_type": "stream",
          "text": [
            "Epoch   1: 100%|██████████| 157/157 [00:00<00:00, 185.58it/s]\n"
          ]
        },
        {
          "name": "stdout",
          "output_type": "stream",
          "text": [
            "norm: 341.26251220703125\n"
          ]
        },
        {
          "name": "stderr",
          "output_type": "stream",
          "text": [
            "Epoch   2: 100%|██████████| 157/157 [00:00<00:00, 236.49it/s]\n"
          ]
        },
        {
          "name": "stdout",
          "output_type": "stream",
          "text": [
            "norm: 180.2685089111328\n"
          ]
        },
        {
          "name": "stderr",
          "output_type": "stream",
          "text": [
            "Epoch   3: 100%|██████████| 157/157 [00:00<00:00, 217.07it/s]\n"
          ]
        },
        {
          "name": "stdout",
          "output_type": "stream",
          "text": [
            "norm: 103.35936737060547\n"
          ]
        },
        {
          "name": "stderr",
          "output_type": "stream",
          "text": [
            "Epoch   4: 100%|██████████| 157/157 [00:00<00:00, 203.50it/s]\n"
          ]
        },
        {
          "name": "stdout",
          "output_type": "stream",
          "text": [
            "norm: 69.92677307128906\n"
          ]
        },
        {
          "name": "stderr",
          "output_type": "stream",
          "text": [
            "Epoch   5: 100%|██████████| 157/157 [00:00<00:00, 221.79it/s]\n"
          ]
        },
        {
          "name": "stdout",
          "output_type": "stream",
          "text": [
            "norm: 53.455955505371094\n"
          ]
        },
        {
          "name": "stderr",
          "output_type": "stream",
          "text": [
            "Epoch   6: 100%|██████████| 157/157 [00:00<00:00, 175.31it/s]\n"
          ]
        },
        {
          "name": "stdout",
          "output_type": "stream",
          "text": [
            "norm: 45.75458526611328\n"
          ]
        },
        {
          "name": "stderr",
          "output_type": "stream",
          "text": [
            "Epoch   7: 100%|██████████| 157/157 [00:00<00:00, 226.40it/s]\n"
          ]
        },
        {
          "name": "stdout",
          "output_type": "stream",
          "text": [
            "norm: 41.539710998535156\n"
          ]
        },
        {
          "name": "stderr",
          "output_type": "stream",
          "text": [
            "Epoch   8: 100%|██████████| 157/157 [00:00<00:00, 189.41it/s]\n"
          ]
        },
        {
          "name": "stdout",
          "output_type": "stream",
          "text": [
            "norm: 39.414825439453125\n"
          ]
        },
        {
          "name": "stderr",
          "output_type": "stream",
          "text": [
            "Epoch   9: 100%|██████████| 157/157 [00:00<00:00, 238.40it/s]\n"
          ]
        },
        {
          "name": "stdout",
          "output_type": "stream",
          "text": [
            "norm: 38.3152961730957\n"
          ]
        },
        {
          "name": "stderr",
          "output_type": "stream",
          "text": [
            "Epoch  10: 100%|██████████| 157/157 [00:00<00:00, 227.47it/s]\n"
          ]
        },
        {
          "name": "stdout",
          "output_type": "stream",
          "text": [
            "norm: 37.232173919677734\n"
          ]
        },
        {
          "name": "stderr",
          "output_type": "stream",
          "text": [
            "Epoch  11: 100%|██████████| 157/157 [00:00<00:00, 220.05it/s]\n"
          ]
        },
        {
          "name": "stdout",
          "output_type": "stream",
          "text": [
            "norm: 36.76554870605469\n"
          ]
        },
        {
          "name": "stderr",
          "output_type": "stream",
          "text": [
            "Epoch  12: 100%|██████████| 157/157 [00:00<00:00, 218.19it/s]\n"
          ]
        },
        {
          "name": "stdout",
          "output_type": "stream",
          "text": [
            "norm: 36.1920280456543\n"
          ]
        },
        {
          "name": "stderr",
          "output_type": "stream",
          "text": [
            "Epoch  13: 100%|██████████| 157/157 [00:00<00:00, 186.00it/s]\n"
          ]
        },
        {
          "name": "stdout",
          "output_type": "stream",
          "text": [
            "norm: 35.336524963378906\n"
          ]
        },
        {
          "name": "stderr",
          "output_type": "stream",
          "text": [
            "Epoch  14: 100%|██████████| 157/157 [00:01<00:00, 154.55it/s]\n"
          ]
        },
        {
          "name": "stdout",
          "output_type": "stream",
          "text": [
            "norm: 34.79604721069336\n"
          ]
        },
        {
          "name": "stderr",
          "output_type": "stream",
          "text": [
            "Epoch  15: 100%|██████████| 157/157 [00:00<00:00, 177.21it/s]\n"
          ]
        },
        {
          "name": "stdout",
          "output_type": "stream",
          "text": [
            "norm: 34.365394592285156\n"
          ]
        },
        {
          "name": "stderr",
          "output_type": "stream",
          "text": [
            "Epoch  16: 100%|██████████| 157/157 [00:00<00:00, 223.95it/s]\n"
          ]
        },
        {
          "name": "stdout",
          "output_type": "stream",
          "text": [
            "norm: 34.145565032958984\n"
          ]
        },
        {
          "name": "stderr",
          "output_type": "stream",
          "text": [
            "Epoch  17: 100%|██████████| 157/157 [00:00<00:00, 201.96it/s]\n"
          ]
        },
        {
          "name": "stdout",
          "output_type": "stream",
          "text": [
            "norm: 33.94086837768555\n"
          ]
        },
        {
          "name": "stderr",
          "output_type": "stream",
          "text": [
            "Epoch  18: 100%|██████████| 157/157 [00:00<00:00, 212.81it/s]\n"
          ]
        },
        {
          "name": "stdout",
          "output_type": "stream",
          "text": [
            "norm: 33.795875549316406\n"
          ]
        },
        {
          "name": "stderr",
          "output_type": "stream",
          "text": [
            "Epoch  19: 100%|██████████| 157/157 [00:00<00:00, 229.21it/s]\n"
          ]
        },
        {
          "name": "stdout",
          "output_type": "stream",
          "text": [
            "norm: 33.725364685058594\n"
          ]
        },
        {
          "name": "stderr",
          "output_type": "stream",
          "text": [
            "Epoch  20: 100%|██████████| 157/157 [00:00<00:00, 235.56it/s]\n"
          ]
        },
        {
          "name": "stdout",
          "output_type": "stream",
          "text": [
            "norm: 33.53691864013672\n",
            "\n",
            "Processing label: 2\n"
          ]
        },
        {
          "name": "stderr",
          "output_type": "stream",
          "text": [
            "Epoch   1: 100%|██████████| 157/157 [00:00<00:00, 206.44it/s]\n"
          ]
        },
        {
          "name": "stdout",
          "output_type": "stream",
          "text": [
            "norm: 266.6080322265625\n"
          ]
        },
        {
          "name": "stderr",
          "output_type": "stream",
          "text": [
            "Epoch   2: 100%|██████████| 157/157 [00:00<00:00, 229.86it/s]\n"
          ]
        },
        {
          "name": "stdout",
          "output_type": "stream",
          "text": [
            "norm: 123.30653381347656\n"
          ]
        },
        {
          "name": "stderr",
          "output_type": "stream",
          "text": [
            "Epoch   3: 100%|██████████| 157/157 [00:00<00:00, 192.90it/s]\n"
          ]
        },
        {
          "name": "stdout",
          "output_type": "stream",
          "text": [
            "norm: 68.47433471679688\n"
          ]
        },
        {
          "name": "stderr",
          "output_type": "stream",
          "text": [
            "Epoch   4: 100%|██████████| 157/157 [00:00<00:00, 197.38it/s]\n"
          ]
        },
        {
          "name": "stdout",
          "output_type": "stream",
          "text": [
            "norm: 52.25978088378906\n"
          ]
        },
        {
          "name": "stderr",
          "output_type": "stream",
          "text": [
            "Epoch   5: 100%|██████████| 157/157 [00:00<00:00, 206.88it/s]\n"
          ]
        },
        {
          "name": "stdout",
          "output_type": "stream",
          "text": [
            "norm: 48.10923767089844\n"
          ]
        },
        {
          "name": "stderr",
          "output_type": "stream",
          "text": [
            "Epoch   6: 100%|██████████| 157/157 [00:00<00:00, 233.03it/s]\n"
          ]
        },
        {
          "name": "stdout",
          "output_type": "stream",
          "text": [
            "norm: 45.82350158691406\n"
          ]
        },
        {
          "name": "stderr",
          "output_type": "stream",
          "text": [
            "Epoch   7: 100%|██████████| 157/157 [00:00<00:00, 238.19it/s]\n"
          ]
        },
        {
          "name": "stdout",
          "output_type": "stream",
          "text": [
            "norm: 44.594852447509766\n"
          ]
        },
        {
          "name": "stderr",
          "output_type": "stream",
          "text": [
            "Epoch   8: 100%|██████████| 157/157 [00:00<00:00, 218.49it/s]\n"
          ]
        },
        {
          "name": "stdout",
          "output_type": "stream",
          "text": [
            "norm: 43.65962219238281\n"
          ]
        },
        {
          "name": "stderr",
          "output_type": "stream",
          "text": [
            "Epoch   9: 100%|██████████| 157/157 [00:00<00:00, 237.37it/s]\n"
          ]
        },
        {
          "name": "stdout",
          "output_type": "stream",
          "text": [
            "norm: 42.902381896972656\n"
          ]
        },
        {
          "name": "stderr",
          "output_type": "stream",
          "text": [
            "Epoch  10: 100%|██████████| 157/157 [00:00<00:00, 211.74it/s]\n"
          ]
        },
        {
          "name": "stdout",
          "output_type": "stream",
          "text": [
            "norm: 42.55080032348633\n"
          ]
        },
        {
          "name": "stderr",
          "output_type": "stream",
          "text": [
            "Epoch  11: 100%|██████████| 157/157 [00:00<00:00, 173.51it/s]\n"
          ]
        },
        {
          "name": "stdout",
          "output_type": "stream",
          "text": [
            "norm: 41.943538665771484\n"
          ]
        },
        {
          "name": "stderr",
          "output_type": "stream",
          "text": [
            "Epoch  12: 100%|██████████| 157/157 [00:00<00:00, 221.33it/s]\n"
          ]
        },
        {
          "name": "stdout",
          "output_type": "stream",
          "text": [
            "norm: 41.443511962890625\n"
          ]
        },
        {
          "name": "stderr",
          "output_type": "stream",
          "text": [
            "Epoch  13: 100%|██████████| 157/157 [00:00<00:00, 194.92it/s]\n"
          ]
        },
        {
          "name": "stdout",
          "output_type": "stream",
          "text": [
            "norm: 41.355438232421875\n"
          ]
        },
        {
          "name": "stderr",
          "output_type": "stream",
          "text": [
            "Epoch  14: 100%|██████████| 157/157 [00:00<00:00, 229.82it/s]\n"
          ]
        },
        {
          "name": "stdout",
          "output_type": "stream",
          "text": [
            "norm: 41.25821304321289\n"
          ]
        },
        {
          "name": "stderr",
          "output_type": "stream",
          "text": [
            "Epoch  15: 100%|██████████| 157/157 [00:00<00:00, 216.50it/s]\n"
          ]
        },
        {
          "name": "stdout",
          "output_type": "stream",
          "text": [
            "norm: 41.219390869140625\n"
          ]
        },
        {
          "name": "stderr",
          "output_type": "stream",
          "text": [
            "Epoch  16: 100%|██████████| 157/157 [00:00<00:00, 215.53it/s]\n"
          ]
        },
        {
          "name": "stdout",
          "output_type": "stream",
          "text": [
            "norm: 41.04063415527344\n"
          ]
        },
        {
          "name": "stderr",
          "output_type": "stream",
          "text": [
            "Epoch  17: 100%|██████████| 157/157 [00:00<00:00, 231.56it/s]\n"
          ]
        },
        {
          "name": "stdout",
          "output_type": "stream",
          "text": [
            "norm: 40.870086669921875\n"
          ]
        },
        {
          "name": "stderr",
          "output_type": "stream",
          "text": [
            "Epoch  18: 100%|██████████| 157/157 [00:00<00:00, 228.45it/s]\n"
          ]
        },
        {
          "name": "stdout",
          "output_type": "stream",
          "text": [
            "norm: 40.7893180847168\n"
          ]
        },
        {
          "name": "stderr",
          "output_type": "stream",
          "text": [
            "Epoch  19: 100%|██████████| 157/157 [00:00<00:00, 223.13it/s]\n"
          ]
        },
        {
          "name": "stdout",
          "output_type": "stream",
          "text": [
            "norm: 40.634681701660156\n"
          ]
        },
        {
          "name": "stderr",
          "output_type": "stream",
          "text": [
            "Epoch  20: 100%|██████████| 157/157 [00:00<00:00, 165.44it/s]\n"
          ]
        },
        {
          "name": "stdout",
          "output_type": "stream",
          "text": [
            "norm: 40.47748947143555\n",
            "\n",
            "Processing label: 3\n"
          ]
        },
        {
          "name": "stderr",
          "output_type": "stream",
          "text": [
            "Epoch   1: 100%|██████████| 157/157 [00:00<00:00, 224.19it/s]\n"
          ]
        },
        {
          "name": "stdout",
          "output_type": "stream",
          "text": [
            "norm: 265.7603759765625\n"
          ]
        },
        {
          "name": "stderr",
          "output_type": "stream",
          "text": [
            "Epoch   2: 100%|██████████| 157/157 [00:00<00:00, 228.28it/s]\n"
          ]
        },
        {
          "name": "stdout",
          "output_type": "stream",
          "text": [
            "norm: 120.93313598632812\n"
          ]
        },
        {
          "name": "stderr",
          "output_type": "stream",
          "text": [
            "Epoch   3: 100%|██████████| 157/157 [00:00<00:00, 209.64it/s]\n"
          ]
        },
        {
          "name": "stdout",
          "output_type": "stream",
          "text": [
            "norm: 73.4814453125\n"
          ]
        },
        {
          "name": "stderr",
          "output_type": "stream",
          "text": [
            "Epoch   4: 100%|██████████| 157/157 [00:00<00:00, 192.19it/s]\n"
          ]
        },
        {
          "name": "stdout",
          "output_type": "stream",
          "text": [
            "norm: 56.467933654785156\n"
          ]
        },
        {
          "name": "stderr",
          "output_type": "stream",
          "text": [
            "Epoch   5: 100%|██████████| 157/157 [00:00<00:00, 216.59it/s]\n"
          ]
        },
        {
          "name": "stdout",
          "output_type": "stream",
          "text": [
            "norm: 50.2197380065918\n"
          ]
        },
        {
          "name": "stderr",
          "output_type": "stream",
          "text": [
            "Epoch   6: 100%|██████████| 157/157 [00:00<00:00, 235.89it/s]\n"
          ]
        },
        {
          "name": "stdout",
          "output_type": "stream",
          "text": [
            "norm: 47.39590835571289\n"
          ]
        },
        {
          "name": "stderr",
          "output_type": "stream",
          "text": [
            "Epoch   7: 100%|██████████| 157/157 [00:00<00:00, 209.33it/s]\n"
          ]
        },
        {
          "name": "stdout",
          "output_type": "stream",
          "text": [
            "norm: 46.173240661621094\n"
          ]
        },
        {
          "name": "stderr",
          "output_type": "stream",
          "text": [
            "Epoch   8: 100%|██████████| 157/157 [00:00<00:00, 231.31it/s]\n"
          ]
        },
        {
          "name": "stdout",
          "output_type": "stream",
          "text": [
            "norm: 45.424163818359375\n"
          ]
        },
        {
          "name": "stderr",
          "output_type": "stream",
          "text": [
            "Epoch   9: 100%|██████████| 157/157 [00:00<00:00, 211.25it/s]\n"
          ]
        },
        {
          "name": "stdout",
          "output_type": "stream",
          "text": [
            "norm: 44.65312957763672\n"
          ]
        },
        {
          "name": "stderr",
          "output_type": "stream",
          "text": [
            "Epoch  10: 100%|██████████| 157/157 [00:00<00:00, 222.41it/s]\n"
          ]
        },
        {
          "name": "stdout",
          "output_type": "stream",
          "text": [
            "norm: 43.71756362915039\n"
          ]
        },
        {
          "name": "stderr",
          "output_type": "stream",
          "text": [
            "Epoch  11: 100%|██████████| 157/157 [00:00<00:00, 221.61it/s]\n"
          ]
        },
        {
          "name": "stdout",
          "output_type": "stream",
          "text": [
            "norm: 43.13690185546875\n"
          ]
        },
        {
          "name": "stderr",
          "output_type": "stream",
          "text": [
            "Epoch  12: 100%|██████████| 157/157 [00:00<00:00, 235.83it/s]\n"
          ]
        },
        {
          "name": "stdout",
          "output_type": "stream",
          "text": [
            "norm: 42.79896926879883\n"
          ]
        },
        {
          "name": "stderr",
          "output_type": "stream",
          "text": [
            "Epoch  13: 100%|██████████| 157/157 [00:00<00:00, 235.16it/s]\n"
          ]
        },
        {
          "name": "stdout",
          "output_type": "stream",
          "text": [
            "norm: 42.24182891845703\n"
          ]
        },
        {
          "name": "stderr",
          "output_type": "stream",
          "text": [
            "Epoch  14: 100%|██████████| 157/157 [00:00<00:00, 235.24it/s]\n"
          ]
        },
        {
          "name": "stdout",
          "output_type": "stream",
          "text": [
            "norm: 41.91376495361328\n"
          ]
        },
        {
          "name": "stderr",
          "output_type": "stream",
          "text": [
            "Epoch  15: 100%|██████████| 157/157 [00:00<00:00, 236.09it/s]\n"
          ]
        },
        {
          "name": "stdout",
          "output_type": "stream",
          "text": [
            "norm: 41.71824264526367\n"
          ]
        },
        {
          "name": "stderr",
          "output_type": "stream",
          "text": [
            "Epoch  16: 100%|██████████| 157/157 [00:00<00:00, 219.96it/s]\n"
          ]
        },
        {
          "name": "stdout",
          "output_type": "stream",
          "text": [
            "norm: 41.55550003051758\n"
          ]
        },
        {
          "name": "stderr",
          "output_type": "stream",
          "text": [
            "Epoch  17: 100%|██████████| 157/157 [00:00<00:00, 211.55it/s]\n"
          ]
        },
        {
          "name": "stdout",
          "output_type": "stream",
          "text": [
            "norm: 41.377159118652344\n"
          ]
        },
        {
          "name": "stderr",
          "output_type": "stream",
          "text": [
            "Epoch  18: 100%|██████████| 157/157 [00:00<00:00, 195.31it/s]\n"
          ]
        },
        {
          "name": "stdout",
          "output_type": "stream",
          "text": [
            "norm: 41.241859436035156\n"
          ]
        },
        {
          "name": "stderr",
          "output_type": "stream",
          "text": [
            "Epoch  19: 100%|██████████| 157/157 [00:00<00:00, 232.58it/s]\n"
          ]
        },
        {
          "name": "stdout",
          "output_type": "stream",
          "text": [
            "norm: 41.12128448486328\n"
          ]
        },
        {
          "name": "stderr",
          "output_type": "stream",
          "text": [
            "Epoch  20: 100%|██████████| 157/157 [00:00<00:00, 224.23it/s]\n"
          ]
        },
        {
          "name": "stdout",
          "output_type": "stream",
          "text": [
            "norm: 41.02935028076172\n",
            "\n",
            "Processing label: 4\n"
          ]
        },
        {
          "name": "stderr",
          "output_type": "stream",
          "text": [
            "Epoch   1: 100%|██████████| 157/157 [00:00<00:00, 215.18it/s]\n"
          ]
        },
        {
          "name": "stdout",
          "output_type": "stream",
          "text": [
            "norm: 283.7349548339844\n"
          ]
        },
        {
          "name": "stderr",
          "output_type": "stream",
          "text": [
            "Epoch   2: 100%|██████████| 157/157 [00:00<00:00, 186.53it/s]\n"
          ]
        },
        {
          "name": "stdout",
          "output_type": "stream",
          "text": [
            "norm: 127.16685485839844\n"
          ]
        },
        {
          "name": "stderr",
          "output_type": "stream",
          "text": [
            "Epoch   3: 100%|██████████| 157/157 [00:00<00:00, 184.49it/s]\n"
          ]
        },
        {
          "name": "stdout",
          "output_type": "stream",
          "text": [
            "norm: 77.85733795166016\n"
          ]
        },
        {
          "name": "stderr",
          "output_type": "stream",
          "text": [
            "Epoch   4: 100%|██████████| 157/157 [00:00<00:00, 198.92it/s]\n"
          ]
        },
        {
          "name": "stdout",
          "output_type": "stream",
          "text": [
            "norm: 59.48109436035156\n"
          ]
        },
        {
          "name": "stderr",
          "output_type": "stream",
          "text": [
            "Epoch   5: 100%|██████████| 157/157 [00:00<00:00, 227.43it/s]\n"
          ]
        },
        {
          "name": "stdout",
          "output_type": "stream",
          "text": [
            "norm: 51.705936431884766\n"
          ]
        },
        {
          "name": "stderr",
          "output_type": "stream",
          "text": [
            "Epoch   6: 100%|██████████| 157/157 [00:00<00:00, 213.06it/s]\n"
          ]
        },
        {
          "name": "stdout",
          "output_type": "stream",
          "text": [
            "norm: 47.31047058105469\n"
          ]
        },
        {
          "name": "stderr",
          "output_type": "stream",
          "text": [
            "Epoch   7: 100%|██████████| 157/157 [00:00<00:00, 200.17it/s]\n"
          ]
        },
        {
          "name": "stdout",
          "output_type": "stream",
          "text": [
            "norm: 45.19902420043945\n"
          ]
        },
        {
          "name": "stderr",
          "output_type": "stream",
          "text": [
            "Epoch   8: 100%|██████████| 157/157 [00:00<00:00, 219.28it/s]\n"
          ]
        },
        {
          "name": "stdout",
          "output_type": "stream",
          "text": [
            "norm: 43.81742858886719\n"
          ]
        },
        {
          "name": "stderr",
          "output_type": "stream",
          "text": [
            "Epoch   9: 100%|██████████| 157/157 [00:00<00:00, 231.45it/s]\n"
          ]
        },
        {
          "name": "stdout",
          "output_type": "stream",
          "text": [
            "norm: 42.897682189941406\n"
          ]
        },
        {
          "name": "stderr",
          "output_type": "stream",
          "text": [
            "Epoch  10: 100%|██████████| 157/157 [00:00<00:00, 187.84it/s]\n"
          ]
        },
        {
          "name": "stdout",
          "output_type": "stream",
          "text": [
            "norm: 42.251312255859375\n"
          ]
        },
        {
          "name": "stderr",
          "output_type": "stream",
          "text": [
            "Epoch  11: 100%|██████████| 157/157 [00:00<00:00, 211.18it/s]\n"
          ]
        },
        {
          "name": "stdout",
          "output_type": "stream",
          "text": [
            "norm: 41.881866455078125\n"
          ]
        },
        {
          "name": "stderr",
          "output_type": "stream",
          "text": [
            "Epoch  12: 100%|██████████| 157/157 [00:00<00:00, 185.60it/s]\n"
          ]
        },
        {
          "name": "stdout",
          "output_type": "stream",
          "text": [
            "norm: 41.18312072753906\n"
          ]
        },
        {
          "name": "stderr",
          "output_type": "stream",
          "text": [
            "Epoch  13: 100%|██████████| 157/157 [00:00<00:00, 217.20it/s]\n"
          ]
        },
        {
          "name": "stdout",
          "output_type": "stream",
          "text": [
            "norm: 40.5717887878418\n"
          ]
        },
        {
          "name": "stderr",
          "output_type": "stream",
          "text": [
            "Epoch  14: 100%|██████████| 157/157 [00:00<00:00, 229.06it/s]\n"
          ]
        },
        {
          "name": "stdout",
          "output_type": "stream",
          "text": [
            "norm: 40.11791229248047\n"
          ]
        },
        {
          "name": "stderr",
          "output_type": "stream",
          "text": [
            "Epoch  15: 100%|██████████| 157/157 [00:00<00:00, 230.40it/s]\n"
          ]
        },
        {
          "name": "stdout",
          "output_type": "stream",
          "text": [
            "norm: 39.804588317871094\n"
          ]
        },
        {
          "name": "stderr",
          "output_type": "stream",
          "text": [
            "Epoch  16: 100%|██████████| 157/157 [00:00<00:00, 187.05it/s]\n"
          ]
        },
        {
          "name": "stdout",
          "output_type": "stream",
          "text": [
            "norm: 39.55303955078125\n"
          ]
        },
        {
          "name": "stderr",
          "output_type": "stream",
          "text": [
            "Epoch  17: 100%|██████████| 157/157 [00:00<00:00, 208.44it/s]\n"
          ]
        },
        {
          "name": "stdout",
          "output_type": "stream",
          "text": [
            "norm: 39.5408935546875\n"
          ]
        },
        {
          "name": "stderr",
          "output_type": "stream",
          "text": [
            "Epoch  18: 100%|██████████| 157/157 [00:00<00:00, 225.74it/s]\n"
          ]
        },
        {
          "name": "stdout",
          "output_type": "stream",
          "text": [
            "norm: 39.325660705566406\n"
          ]
        },
        {
          "name": "stderr",
          "output_type": "stream",
          "text": [
            "Epoch  19: 100%|██████████| 157/157 [00:00<00:00, 219.85it/s]\n"
          ]
        },
        {
          "name": "stdout",
          "output_type": "stream",
          "text": [
            "norm: 39.17454528808594\n"
          ]
        },
        {
          "name": "stderr",
          "output_type": "stream",
          "text": [
            "Epoch  20: 100%|██████████| 157/157 [00:00<00:00, 220.43it/s]\n"
          ]
        },
        {
          "name": "stdout",
          "output_type": "stream",
          "text": [
            "norm: 39.01323699951172\n",
            "\n",
            "Processing label: 5\n"
          ]
        },
        {
          "name": "stderr",
          "output_type": "stream",
          "text": [
            "Epoch   1: 100%|██████████| 157/157 [00:00<00:00, 188.35it/s]\n"
          ]
        },
        {
          "name": "stdout",
          "output_type": "stream",
          "text": [
            "norm: 324.1100769042969\n"
          ]
        },
        {
          "name": "stderr",
          "output_type": "stream",
          "text": [
            "Epoch   2: 100%|██████████| 157/157 [00:00<00:00, 190.32it/s]\n"
          ]
        },
        {
          "name": "stdout",
          "output_type": "stream",
          "text": [
            "norm: 154.88427734375\n"
          ]
        },
        {
          "name": "stderr",
          "output_type": "stream",
          "text": [
            "Epoch   3: 100%|██████████| 157/157 [00:00<00:00, 196.39it/s]\n"
          ]
        },
        {
          "name": "stdout",
          "output_type": "stream",
          "text": [
            "norm: 89.28743743896484\n"
          ]
        },
        {
          "name": "stderr",
          "output_type": "stream",
          "text": [
            "Epoch   4: 100%|██████████| 157/157 [00:00<00:00, 192.31it/s]\n"
          ]
        },
        {
          "name": "stdout",
          "output_type": "stream",
          "text": [
            "norm: 63.374351501464844\n"
          ]
        },
        {
          "name": "stderr",
          "output_type": "stream",
          "text": [
            "Epoch   5: 100%|██████████| 157/157 [00:00<00:00, 206.58it/s]\n"
          ]
        },
        {
          "name": "stdout",
          "output_type": "stream",
          "text": [
            "norm: 51.702247619628906\n"
          ]
        },
        {
          "name": "stderr",
          "output_type": "stream",
          "text": [
            "Epoch   6: 100%|██████████| 157/157 [00:00<00:00, 218.46it/s]\n"
          ]
        },
        {
          "name": "stdout",
          "output_type": "stream",
          "text": [
            "norm: 45.90825653076172\n"
          ]
        },
        {
          "name": "stderr",
          "output_type": "stream",
          "text": [
            "Epoch   7: 100%|██████████| 157/157 [00:00<00:00, 206.88it/s]\n"
          ]
        },
        {
          "name": "stdout",
          "output_type": "stream",
          "text": [
            "norm: 42.276893615722656\n"
          ]
        },
        {
          "name": "stderr",
          "output_type": "stream",
          "text": [
            "Epoch   8: 100%|██████████| 157/157 [00:00<00:00, 233.24it/s]\n"
          ]
        },
        {
          "name": "stdout",
          "output_type": "stream",
          "text": [
            "norm: 39.6661262512207\n"
          ]
        },
        {
          "name": "stderr",
          "output_type": "stream",
          "text": [
            "Epoch   9: 100%|██████████| 157/157 [00:00<00:00, 211.45it/s]\n"
          ]
        },
        {
          "name": "stdout",
          "output_type": "stream",
          "text": [
            "norm: 38.249908447265625\n"
          ]
        },
        {
          "name": "stderr",
          "output_type": "stream",
          "text": [
            "Epoch  10: 100%|██████████| 157/157 [00:01<00:00, 153.53it/s]\n"
          ]
        },
        {
          "name": "stdout",
          "output_type": "stream",
          "text": [
            "norm: 37.38811492919922\n"
          ]
        },
        {
          "name": "stderr",
          "output_type": "stream",
          "text": [
            "Epoch  11: 100%|██████████| 157/157 [00:00<00:00, 183.07it/s]\n"
          ]
        },
        {
          "name": "stdout",
          "output_type": "stream",
          "text": [
            "norm: 36.90288543701172\n"
          ]
        },
        {
          "name": "stderr",
          "output_type": "stream",
          "text": [
            "Epoch  12: 100%|██████████| 157/157 [00:00<00:00, 223.28it/s]\n"
          ]
        },
        {
          "name": "stdout",
          "output_type": "stream",
          "text": [
            "norm: 36.42155456542969\n"
          ]
        },
        {
          "name": "stderr",
          "output_type": "stream",
          "text": [
            "Epoch  13: 100%|██████████| 157/157 [00:00<00:00, 222.58it/s]\n"
          ]
        },
        {
          "name": "stdout",
          "output_type": "stream",
          "text": [
            "norm: 36.11773681640625\n"
          ]
        },
        {
          "name": "stderr",
          "output_type": "stream",
          "text": [
            "Epoch  14: 100%|██████████| 157/157 [00:00<00:00, 213.02it/s]\n"
          ]
        },
        {
          "name": "stdout",
          "output_type": "stream",
          "text": [
            "norm: 35.700008392333984\n"
          ]
        },
        {
          "name": "stderr",
          "output_type": "stream",
          "text": [
            "Epoch  15: 100%|██████████| 157/157 [00:00<00:00, 206.27it/s]\n"
          ]
        },
        {
          "name": "stdout",
          "output_type": "stream",
          "text": [
            "norm: 35.08579635620117\n"
          ]
        },
        {
          "name": "stderr",
          "output_type": "stream",
          "text": [
            "Epoch  16: 100%|██████████| 157/157 [00:00<00:00, 206.74it/s]\n"
          ]
        },
        {
          "name": "stdout",
          "output_type": "stream",
          "text": [
            "norm: 34.792137145996094\n"
          ]
        },
        {
          "name": "stderr",
          "output_type": "stream",
          "text": [
            "Epoch  17: 100%|██████████| 157/157 [00:00<00:00, 224.99it/s]\n"
          ]
        },
        {
          "name": "stdout",
          "output_type": "stream",
          "text": [
            "norm: 34.56732177734375\n"
          ]
        },
        {
          "name": "stderr",
          "output_type": "stream",
          "text": [
            "Epoch  18: 100%|██████████| 157/157 [00:00<00:00, 215.22it/s]\n"
          ]
        },
        {
          "name": "stdout",
          "output_type": "stream",
          "text": [
            "norm: 34.401954650878906\n"
          ]
        },
        {
          "name": "stderr",
          "output_type": "stream",
          "text": [
            "Epoch  19: 100%|██████████| 157/157 [00:00<00:00, 222.99it/s]\n"
          ]
        },
        {
          "name": "stdout",
          "output_type": "stream",
          "text": [
            "norm: 34.16114044189453\n"
          ]
        },
        {
          "name": "stderr",
          "output_type": "stream",
          "text": [
            "Epoch  20: 100%|██████████| 157/157 [00:00<00:00, 221.94it/s]\n"
          ]
        },
        {
          "name": "stdout",
          "output_type": "stream",
          "text": [
            "norm: 33.956390380859375\n",
            "\n",
            "Processing label: 6\n"
          ]
        },
        {
          "name": "stderr",
          "output_type": "stream",
          "text": [
            "Epoch   1: 100%|██████████| 157/157 [00:00<00:00, 235.53it/s]\n"
          ]
        },
        {
          "name": "stdout",
          "output_type": "stream",
          "text": [
            "norm: 110.26998901367188\n"
          ]
        },
        {
          "name": "stderr",
          "output_type": "stream",
          "text": [
            "Epoch   2: 100%|██████████| 157/157 [00:00<00:00, 233.80it/s]\n"
          ]
        },
        {
          "name": "stdout",
          "output_type": "stream",
          "text": [
            "norm: 58.88046646118164\n"
          ]
        },
        {
          "name": "stderr",
          "output_type": "stream",
          "text": [
            "Epoch   3: 100%|██████████| 157/157 [00:00<00:00, 175.19it/s]\n"
          ]
        },
        {
          "name": "stdout",
          "output_type": "stream",
          "text": [
            "norm: 49.82501983642578\n"
          ]
        },
        {
          "name": "stderr",
          "output_type": "stream",
          "text": [
            "Epoch   4: 100%|██████████| 157/157 [00:00<00:00, 219.45it/s]\n"
          ]
        },
        {
          "name": "stdout",
          "output_type": "stream",
          "text": [
            "norm: 46.46026611328125\n"
          ]
        },
        {
          "name": "stderr",
          "output_type": "stream",
          "text": [
            "Epoch   5: 100%|██████████| 157/157 [00:00<00:00, 198.55it/s]\n"
          ]
        },
        {
          "name": "stdout",
          "output_type": "stream",
          "text": [
            "norm: 45.54612731933594\n"
          ]
        },
        {
          "name": "stderr",
          "output_type": "stream",
          "text": [
            "Epoch   6: 100%|██████████| 157/157 [00:00<00:00, 232.47it/s]\n"
          ]
        },
        {
          "name": "stdout",
          "output_type": "stream",
          "text": [
            "norm: 44.964595794677734\n"
          ]
        },
        {
          "name": "stderr",
          "output_type": "stream",
          "text": [
            "Epoch   7: 100%|██████████| 157/157 [00:00<00:00, 218.00it/s]\n"
          ]
        },
        {
          "name": "stdout",
          "output_type": "stream",
          "text": [
            "norm: 44.59088897705078\n"
          ]
        },
        {
          "name": "stderr",
          "output_type": "stream",
          "text": [
            "Epoch   8: 100%|██████████| 157/157 [00:00<00:00, 229.28it/s]\n"
          ]
        },
        {
          "name": "stdout",
          "output_type": "stream",
          "text": [
            "norm: 44.345130920410156\n"
          ]
        },
        {
          "name": "stderr",
          "output_type": "stream",
          "text": [
            "Epoch   9: 100%|██████████| 157/157 [00:00<00:00, 197.76it/s]\n"
          ]
        },
        {
          "name": "stdout",
          "output_type": "stream",
          "text": [
            "norm: 43.995277404785156\n"
          ]
        },
        {
          "name": "stderr",
          "output_type": "stream",
          "text": [
            "Epoch  10: 100%|██████████| 157/157 [00:00<00:00, 232.44it/s]\n"
          ]
        },
        {
          "name": "stdout",
          "output_type": "stream",
          "text": [
            "norm: 43.76170349121094\n"
          ]
        },
        {
          "name": "stderr",
          "output_type": "stream",
          "text": [
            "Epoch  11: 100%|██████████| 157/157 [00:00<00:00, 221.34it/s]\n"
          ]
        },
        {
          "name": "stdout",
          "output_type": "stream",
          "text": [
            "norm: 43.63237380981445\n"
          ]
        },
        {
          "name": "stderr",
          "output_type": "stream",
          "text": [
            "Epoch  12: 100%|██████████| 157/157 [00:00<00:00, 204.46it/s]\n"
          ]
        },
        {
          "name": "stdout",
          "output_type": "stream",
          "text": [
            "norm: 43.484825134277344\n"
          ]
        },
        {
          "name": "stderr",
          "output_type": "stream",
          "text": [
            "Epoch  13: 100%|██████████| 157/157 [00:00<00:00, 189.45it/s]\n"
          ]
        },
        {
          "name": "stdout",
          "output_type": "stream",
          "text": [
            "norm: 43.49048614501953\n"
          ]
        },
        {
          "name": "stderr",
          "output_type": "stream",
          "text": [
            "Epoch  14: 100%|██████████| 157/157 [00:00<00:00, 204.01it/s]\n"
          ]
        },
        {
          "name": "stdout",
          "output_type": "stream",
          "text": [
            "norm: 43.23314666748047\n"
          ]
        },
        {
          "name": "stderr",
          "output_type": "stream",
          "text": [
            "Epoch  15: 100%|██████████| 157/157 [00:00<00:00, 225.91it/s]\n"
          ]
        },
        {
          "name": "stdout",
          "output_type": "stream",
          "text": [
            "norm: 42.91050720214844\n"
          ]
        },
        {
          "name": "stderr",
          "output_type": "stream",
          "text": [
            "Epoch  16: 100%|██████████| 157/157 [00:00<00:00, 213.21it/s]\n"
          ]
        },
        {
          "name": "stdout",
          "output_type": "stream",
          "text": [
            "norm: 42.548851013183594\n"
          ]
        },
        {
          "name": "stderr",
          "output_type": "stream",
          "text": [
            "Epoch  17: 100%|██████████| 157/157 [00:00<00:00, 234.15it/s]\n"
          ]
        },
        {
          "name": "stdout",
          "output_type": "stream",
          "text": [
            "norm: 41.97352981567383\n"
          ]
        },
        {
          "name": "stderr",
          "output_type": "stream",
          "text": [
            "Epoch  18: 100%|██████████| 157/157 [00:00<00:00, 218.09it/s]\n"
          ]
        },
        {
          "name": "stdout",
          "output_type": "stream",
          "text": [
            "norm: 41.58082580566406\n"
          ]
        },
        {
          "name": "stderr",
          "output_type": "stream",
          "text": [
            "Epoch  19: 100%|██████████| 157/157 [00:00<00:00, 230.38it/s]\n"
          ]
        },
        {
          "name": "stdout",
          "output_type": "stream",
          "text": [
            "norm: 41.33653259277344\n"
          ]
        },
        {
          "name": "stderr",
          "output_type": "stream",
          "text": [
            "Epoch  20: 100%|██████████| 157/157 [00:00<00:00, 230.20it/s]\n"
          ]
        },
        {
          "name": "stdout",
          "output_type": "stream",
          "text": [
            "norm: 41.31446838378906\n",
            "\n",
            "Processing label: 7\n"
          ]
        },
        {
          "name": "stderr",
          "output_type": "stream",
          "text": [
            "Epoch   1: 100%|██████████| 157/157 [00:00<00:00, 182.24it/s]\n"
          ]
        },
        {
          "name": "stdout",
          "output_type": "stream",
          "text": [
            "norm: 346.2099914550781\n"
          ]
        },
        {
          "name": "stderr",
          "output_type": "stream",
          "text": [
            "Epoch   2: 100%|██████████| 157/157 [00:00<00:00, 219.56it/s]\n"
          ]
        },
        {
          "name": "stdout",
          "output_type": "stream",
          "text": [
            "norm: 181.05267333984375\n"
          ]
        },
        {
          "name": "stderr",
          "output_type": "stream",
          "text": [
            "Epoch   3: 100%|██████████| 157/157 [00:00<00:00, 218.83it/s]\n"
          ]
        },
        {
          "name": "stdout",
          "output_type": "stream",
          "text": [
            "norm: 103.4543685913086\n"
          ]
        },
        {
          "name": "stderr",
          "output_type": "stream",
          "text": [
            "Epoch   4: 100%|██████████| 157/157 [00:00<00:00, 211.60it/s]\n"
          ]
        },
        {
          "name": "stdout",
          "output_type": "stream",
          "text": [
            "norm: 71.45997619628906\n"
          ]
        },
        {
          "name": "stderr",
          "output_type": "stream",
          "text": [
            "Epoch   5: 100%|██████████| 157/157 [00:00<00:00, 204.44it/s]\n"
          ]
        },
        {
          "name": "stdout",
          "output_type": "stream",
          "text": [
            "norm: 55.769081115722656\n"
          ]
        },
        {
          "name": "stderr",
          "output_type": "stream",
          "text": [
            "Epoch   6: 100%|██████████| 157/157 [00:00<00:00, 188.76it/s]\n"
          ]
        },
        {
          "name": "stdout",
          "output_type": "stream",
          "text": [
            "norm: 46.63471603393555\n"
          ]
        },
        {
          "name": "stderr",
          "output_type": "stream",
          "text": [
            "Epoch   7: 100%|██████████| 157/157 [00:00<00:00, 225.83it/s]\n"
          ]
        },
        {
          "name": "stdout",
          "output_type": "stream",
          "text": [
            "norm: 41.23798751831055\n"
          ]
        },
        {
          "name": "stderr",
          "output_type": "stream",
          "text": [
            "Epoch   8: 100%|██████████| 157/157 [00:00<00:00, 185.14it/s]\n"
          ]
        },
        {
          "name": "stdout",
          "output_type": "stream",
          "text": [
            "norm: 38.972129821777344\n"
          ]
        },
        {
          "name": "stderr",
          "output_type": "stream",
          "text": [
            "Epoch   9: 100%|██████████| 157/157 [00:00<00:00, 186.29it/s]\n"
          ]
        },
        {
          "name": "stdout",
          "output_type": "stream",
          "text": [
            "norm: 37.429019927978516\n"
          ]
        },
        {
          "name": "stderr",
          "output_type": "stream",
          "text": [
            "Epoch  10: 100%|██████████| 157/157 [00:00<00:00, 163.49it/s]\n"
          ]
        },
        {
          "name": "stdout",
          "output_type": "stream",
          "text": [
            "norm: 36.80267333984375\n"
          ]
        },
        {
          "name": "stderr",
          "output_type": "stream",
          "text": [
            "Epoch  11: 100%|██████████| 157/157 [00:00<00:00, 193.90it/s]\n"
          ]
        },
        {
          "name": "stdout",
          "output_type": "stream",
          "text": [
            "norm: 36.399574279785156\n"
          ]
        },
        {
          "name": "stderr",
          "output_type": "stream",
          "text": [
            "Epoch  12: 100%|██████████| 157/157 [00:00<00:00, 190.48it/s]\n"
          ]
        },
        {
          "name": "stdout",
          "output_type": "stream",
          "text": [
            "norm: 35.67546844482422\n"
          ]
        },
        {
          "name": "stderr",
          "output_type": "stream",
          "text": [
            "Epoch  13: 100%|██████████| 157/157 [00:00<00:00, 225.51it/s]\n"
          ]
        },
        {
          "name": "stdout",
          "output_type": "stream",
          "text": [
            "norm: 35.04151153564453\n"
          ]
        },
        {
          "name": "stderr",
          "output_type": "stream",
          "text": [
            "Epoch  14: 100%|██████████| 157/157 [00:00<00:00, 178.21it/s]\n"
          ]
        },
        {
          "name": "stdout",
          "output_type": "stream",
          "text": [
            "norm: 34.59589385986328\n"
          ]
        },
        {
          "name": "stderr",
          "output_type": "stream",
          "text": [
            "Epoch  15: 100%|██████████| 157/157 [00:00<00:00, 224.49it/s]\n"
          ]
        },
        {
          "name": "stdout",
          "output_type": "stream",
          "text": [
            "norm: 34.20404815673828\n"
          ]
        },
        {
          "name": "stderr",
          "output_type": "stream",
          "text": [
            "Epoch  16: 100%|██████████| 157/157 [00:00<00:00, 219.82it/s]\n"
          ]
        },
        {
          "name": "stdout",
          "output_type": "stream",
          "text": [
            "norm: 33.88312530517578\n"
          ]
        },
        {
          "name": "stderr",
          "output_type": "stream",
          "text": [
            "Epoch  17: 100%|██████████| 157/157 [00:00<00:00, 223.64it/s]\n"
          ]
        },
        {
          "name": "stdout",
          "output_type": "stream",
          "text": [
            "norm: 33.4590950012207\n"
          ]
        },
        {
          "name": "stderr",
          "output_type": "stream",
          "text": [
            "Epoch  18: 100%|██████████| 157/157 [00:00<00:00, 213.48it/s]\n"
          ]
        },
        {
          "name": "stdout",
          "output_type": "stream",
          "text": [
            "norm: 33.242523193359375\n"
          ]
        },
        {
          "name": "stderr",
          "output_type": "stream",
          "text": [
            "Epoch  19: 100%|██████████| 157/157 [00:00<00:00, 175.08it/s]\n"
          ]
        },
        {
          "name": "stdout",
          "output_type": "stream",
          "text": [
            "norm: 33.19141387939453\n"
          ]
        },
        {
          "name": "stderr",
          "output_type": "stream",
          "text": [
            "Epoch  20: 100%|██████████| 157/157 [00:00<00:00, 169.17it/s]\n"
          ]
        },
        {
          "name": "stdout",
          "output_type": "stream",
          "text": [
            "norm: 33.18946075439453\n",
            "\n",
            "Processing label: 8\n"
          ]
        },
        {
          "name": "stderr",
          "output_type": "stream",
          "text": [
            "Epoch   1: 100%|██████████| 157/157 [00:00<00:00, 174.01it/s]\n"
          ]
        },
        {
          "name": "stdout",
          "output_type": "stream",
          "text": [
            "norm: 280.7975158691406\n"
          ]
        },
        {
          "name": "stderr",
          "output_type": "stream",
          "text": [
            "Epoch   2: 100%|██████████| 157/157 [00:00<00:00, 184.74it/s]\n"
          ]
        },
        {
          "name": "stdout",
          "output_type": "stream",
          "text": [
            "norm: 109.14376831054688\n"
          ]
        },
        {
          "name": "stderr",
          "output_type": "stream",
          "text": [
            "Epoch   3: 100%|██████████| 157/157 [00:00<00:00, 218.67it/s]\n"
          ]
        },
        {
          "name": "stdout",
          "output_type": "stream",
          "text": [
            "norm: 44.61474609375\n"
          ]
        },
        {
          "name": "stderr",
          "output_type": "stream",
          "text": [
            "Epoch   4: 100%|██████████| 157/157 [00:00<00:00, 212.45it/s]\n"
          ]
        },
        {
          "name": "stdout",
          "output_type": "stream",
          "text": [
            "norm: 22.764041900634766\n"
          ]
        },
        {
          "name": "stderr",
          "output_type": "stream",
          "text": [
            "Epoch   5: 100%|██████████| 157/157 [00:00<00:00, 227.08it/s]\n"
          ]
        },
        {
          "name": "stdout",
          "output_type": "stream",
          "text": [
            "norm: 15.128530502319336\n"
          ]
        },
        {
          "name": "stderr",
          "output_type": "stream",
          "text": [
            "Epoch   6: 100%|██████████| 157/157 [00:00<00:00, 227.93it/s]\n"
          ]
        },
        {
          "name": "stdout",
          "output_type": "stream",
          "text": [
            "norm: 12.660562515258789\n"
          ]
        },
        {
          "name": "stderr",
          "output_type": "stream",
          "text": [
            "Epoch   7: 100%|██████████| 157/157 [00:00<00:00, 221.33it/s]\n"
          ]
        },
        {
          "name": "stdout",
          "output_type": "stream",
          "text": [
            "norm: 11.758047103881836\n"
          ]
        },
        {
          "name": "stderr",
          "output_type": "stream",
          "text": [
            "Epoch   8: 100%|██████████| 157/157 [00:00<00:00, 223.78it/s]\n"
          ]
        },
        {
          "name": "stdout",
          "output_type": "stream",
          "text": [
            "norm: 11.372983932495117\n"
          ]
        },
        {
          "name": "stderr",
          "output_type": "stream",
          "text": [
            "Epoch   9: 100%|██████████| 157/157 [00:00<00:00, 232.20it/s]\n"
          ]
        },
        {
          "name": "stdout",
          "output_type": "stream",
          "text": [
            "norm: 10.96634292602539\n"
          ]
        },
        {
          "name": "stderr",
          "output_type": "stream",
          "text": [
            "Epoch  10: 100%|██████████| 157/157 [00:00<00:00, 233.32it/s]\n"
          ]
        },
        {
          "name": "stdout",
          "output_type": "stream",
          "text": [
            "norm: 10.677316665649414\n"
          ]
        },
        {
          "name": "stderr",
          "output_type": "stream",
          "text": [
            "Epoch  11: 100%|██████████| 157/157 [00:00<00:00, 204.44it/s]\n"
          ]
        },
        {
          "name": "stdout",
          "output_type": "stream",
          "text": [
            "norm: 10.504955291748047\n"
          ]
        },
        {
          "name": "stderr",
          "output_type": "stream",
          "text": [
            "Epoch  12: 100%|██████████| 157/157 [00:00<00:00, 179.45it/s]\n"
          ]
        },
        {
          "name": "stdout",
          "output_type": "stream",
          "text": [
            "norm: 10.282674789428711\n"
          ]
        },
        {
          "name": "stderr",
          "output_type": "stream",
          "text": [
            "Epoch  13: 100%|██████████| 157/157 [00:00<00:00, 204.44it/s]\n"
          ]
        },
        {
          "name": "stdout",
          "output_type": "stream",
          "text": [
            "norm: 10.109087944030762\n"
          ]
        },
        {
          "name": "stderr",
          "output_type": "stream",
          "text": [
            "Epoch  14: 100%|██████████| 157/157 [00:00<00:00, 221.99it/s]\n"
          ]
        },
        {
          "name": "stdout",
          "output_type": "stream",
          "text": [
            "norm: 10.059890747070312\n"
          ]
        },
        {
          "name": "stderr",
          "output_type": "stream",
          "text": [
            "Epoch  15: 100%|██████████| 157/157 [00:00<00:00, 217.36it/s]\n"
          ]
        },
        {
          "name": "stdout",
          "output_type": "stream",
          "text": [
            "norm: 10.032485961914062\n"
          ]
        },
        {
          "name": "stderr",
          "output_type": "stream",
          "text": [
            "Epoch  16: 100%|██████████| 157/157 [00:00<00:00, 179.20it/s]\n"
          ]
        },
        {
          "name": "stdout",
          "output_type": "stream",
          "text": [
            "norm: 9.994447708129883\n"
          ]
        },
        {
          "name": "stderr",
          "output_type": "stream",
          "text": [
            "Epoch  17: 100%|██████████| 157/157 [00:00<00:00, 200.19it/s]\n"
          ]
        },
        {
          "name": "stdout",
          "output_type": "stream",
          "text": [
            "norm: 9.971887588500977\n"
          ]
        },
        {
          "name": "stderr",
          "output_type": "stream",
          "text": [
            "Epoch  18: 100%|██████████| 157/157 [00:00<00:00, 220.30it/s]\n"
          ]
        },
        {
          "name": "stdout",
          "output_type": "stream",
          "text": [
            "norm: 9.955894470214844\n"
          ]
        },
        {
          "name": "stderr",
          "output_type": "stream",
          "text": [
            "Epoch  19: 100%|██████████| 157/157 [00:00<00:00, 233.10it/s]\n"
          ]
        },
        {
          "name": "stdout",
          "output_type": "stream",
          "text": [
            "norm: 9.954587936401367\n"
          ]
        },
        {
          "name": "stderr",
          "output_type": "stream",
          "text": [
            "Epoch  20: 100%|██████████| 157/157 [00:00<00:00, 234.46it/s]\n"
          ]
        },
        {
          "name": "stdout",
          "output_type": "stream",
          "text": [
            "norm: 9.94442081451416\n",
            "\n",
            "Processing label: 9\n"
          ]
        },
        {
          "name": "stderr",
          "output_type": "stream",
          "text": [
            "Epoch   1: 100%|██████████| 157/157 [00:00<00:00, 233.89it/s]\n"
          ]
        },
        {
          "name": "stdout",
          "output_type": "stream",
          "text": [
            "norm: 265.137939453125\n"
          ]
        },
        {
          "name": "stderr",
          "output_type": "stream",
          "text": [
            "Epoch   2: 100%|██████████| 157/157 [00:00<00:00, 229.00it/s]\n"
          ]
        },
        {
          "name": "stdout",
          "output_type": "stream",
          "text": [
            "norm: 109.04846954345703\n"
          ]
        },
        {
          "name": "stderr",
          "output_type": "stream",
          "text": [
            "Epoch   3: 100%|██████████| 157/157 [00:00<00:00, 195.09it/s]\n"
          ]
        },
        {
          "name": "stdout",
          "output_type": "stream",
          "text": [
            "norm: 62.17549133300781\n"
          ]
        },
        {
          "name": "stderr",
          "output_type": "stream",
          "text": [
            "Epoch   4: 100%|██████████| 157/157 [00:00<00:00, 195.85it/s]\n"
          ]
        },
        {
          "name": "stdout",
          "output_type": "stream",
          "text": [
            "norm: 48.20404815673828\n"
          ]
        },
        {
          "name": "stderr",
          "output_type": "stream",
          "text": [
            "Epoch   5: 100%|██████████| 157/157 [00:00<00:00, 219.67it/s]\n"
          ]
        },
        {
          "name": "stdout",
          "output_type": "stream",
          "text": [
            "norm: 43.06770324707031\n"
          ]
        },
        {
          "name": "stderr",
          "output_type": "stream",
          "text": [
            "Epoch   6: 100%|██████████| 157/157 [00:00<00:00, 216.14it/s]\n"
          ]
        },
        {
          "name": "stdout",
          "output_type": "stream",
          "text": [
            "norm: 40.833587646484375\n"
          ]
        },
        {
          "name": "stderr",
          "output_type": "stream",
          "text": [
            "Epoch   7: 100%|██████████| 157/157 [00:00<00:00, 209.49it/s]\n"
          ]
        },
        {
          "name": "stdout",
          "output_type": "stream",
          "text": [
            "norm: 39.023345947265625\n"
          ]
        },
        {
          "name": "stderr",
          "output_type": "stream",
          "text": [
            "Epoch   8: 100%|██████████| 157/157 [00:00<00:00, 229.92it/s]\n"
          ]
        },
        {
          "name": "stdout",
          "output_type": "stream",
          "text": [
            "norm: 38.01737594604492\n"
          ]
        },
        {
          "name": "stderr",
          "output_type": "stream",
          "text": [
            "Epoch   9: 100%|██████████| 157/157 [00:00<00:00, 220.54it/s]\n"
          ]
        },
        {
          "name": "stdout",
          "output_type": "stream",
          "text": [
            "norm: 37.26864242553711\n"
          ]
        },
        {
          "name": "stderr",
          "output_type": "stream",
          "text": [
            "Epoch  10: 100%|██████████| 157/157 [00:00<00:00, 182.10it/s]\n"
          ]
        },
        {
          "name": "stdout",
          "output_type": "stream",
          "text": [
            "norm: 36.790977478027344\n"
          ]
        },
        {
          "name": "stderr",
          "output_type": "stream",
          "text": [
            "Epoch  11: 100%|██████████| 157/157 [00:00<00:00, 233.68it/s]\n"
          ]
        },
        {
          "name": "stdout",
          "output_type": "stream",
          "text": [
            "norm: 36.51753234863281\n"
          ]
        },
        {
          "name": "stderr",
          "output_type": "stream",
          "text": [
            "Epoch  12: 100%|██████████| 157/157 [00:00<00:00, 213.88it/s]\n"
          ]
        },
        {
          "name": "stdout",
          "output_type": "stream",
          "text": [
            "norm: 36.1248893737793\n"
          ]
        },
        {
          "name": "stderr",
          "output_type": "stream",
          "text": [
            "Epoch  13: 100%|██████████| 157/157 [00:00<00:00, 218.24it/s]\n"
          ]
        },
        {
          "name": "stdout",
          "output_type": "stream",
          "text": [
            "norm: 35.720523834228516\n"
          ]
        },
        {
          "name": "stderr",
          "output_type": "stream",
          "text": [
            "Epoch  14: 100%|██████████| 157/157 [00:00<00:00, 231.24it/s]\n"
          ]
        },
        {
          "name": "stdout",
          "output_type": "stream",
          "text": [
            "norm: 35.453285217285156\n"
          ]
        },
        {
          "name": "stderr",
          "output_type": "stream",
          "text": [
            "Epoch  15: 100%|██████████| 157/157 [00:00<00:00, 224.19it/s]\n"
          ]
        },
        {
          "name": "stdout",
          "output_type": "stream",
          "text": [
            "norm: 35.314842224121094\n"
          ]
        },
        {
          "name": "stderr",
          "output_type": "stream",
          "text": [
            "Epoch  16: 100%|██████████| 157/157 [00:00<00:00, 231.31it/s]\n"
          ]
        },
        {
          "name": "stdout",
          "output_type": "stream",
          "text": [
            "norm: 35.293212890625\n"
          ]
        },
        {
          "name": "stderr",
          "output_type": "stream",
          "text": [
            "Epoch  17: 100%|██████████| 157/157 [00:00<00:00, 224.48it/s]\n"
          ]
        },
        {
          "name": "stdout",
          "output_type": "stream",
          "text": [
            "norm: 35.25005340576172\n"
          ]
        },
        {
          "name": "stderr",
          "output_type": "stream",
          "text": [
            "Epoch  18: 100%|██████████| 157/157 [00:00<00:00, 171.41it/s]\n"
          ]
        },
        {
          "name": "stdout",
          "output_type": "stream",
          "text": [
            "norm: 35.22734069824219\n"
          ]
        },
        {
          "name": "stderr",
          "output_type": "stream",
          "text": [
            "Epoch  19: 100%|██████████| 157/157 [00:00<00:00, 183.50it/s]\n"
          ]
        },
        {
          "name": "stdout",
          "output_type": "stream",
          "text": [
            "norm: 35.1923828125\n"
          ]
        },
        {
          "name": "stderr",
          "output_type": "stream",
          "text": [
            "Epoch  20: 100%|██████████| 157/157 [00:00<00:00, 203.98it/s]\n"
          ]
        },
        {
          "name": "stdout",
          "output_type": "stream",
          "text": [
            "norm: 35.05598449707031\n",
            "[37.03380584716797, 33.536922454833984, 40.47748565673828, 41.02935791015625, 39.01323699951172, 33.956390380859375, 41.31446838378906, 33.18946075439453, 9.944419860839844, 35.05598449707031]\n"
          ]
        },
        {
          "data": {
            "image/png": "[encoded data removed]",
            "text/plain": [
              "<Figure size 640x480 with 1 Axes>"
            ]
          },
          "metadata": {},
          "output_type": "display_data"
        }
      ],
      "source": [
        "reverse_engineer()"
      ]
    },
    {
      "cell_type": "markdown",
      "metadata": {
        "id": "ean2YwHp_8_p"
      },
      "source": [
        "## 显示逆向的trigger"
      ]
    },
    {
      "cell_type": "code",
      "execution_count": 5,
      "metadata": {
        "colab": {
          "base_uri": "https://localhost:8080/",
          "height": 363
        },
        "id": "cvDHzz2p36HR",
        "outputId": "51255368-a42c-4f26-87ab-53b07d35e7a5"
      },
      "outputs": [
        {
          "data": {
            "image/png": "[encoded data removed]",
            "text/plain": [
              "<Figure size 1400x600 with 10 Axes>"
            ]
          },
          "metadata": {},
          "output_type": "display_data"
        }
      ],
      "source": [
        "import matplotlib.pyplot as plt\n",
        "import numpy as np\n",
        "\n",
        "plt.figure(figsize=(14, 6))\n",
        "N=2\n",
        "M=5\n",
        "\n",
        "#形成NxM大小的画布\n",
        "for i in range(10):#有10张图片\n",
        "    path='mask/mask_'+str(i)+'.png'\n",
        "    img = plt.imread(path)\n",
        "    plt.subplot(N,M,i+1)#表示第i张图片，下标只能从1开始，不能从0\n",
        "    plt.title('mask for label '+str(i))\n",
        "    plt.imshow(img)\n",
        "\n",
        "    plt.xticks([])\n",
        "    plt.yticks([])\n",
        "plt.show()"
      ]
    },
    {
      "cell_type": "markdown",
      "metadata": {
        "id": "11k7X7lc_wJO"
      },
      "source": [
        "## 异常值检测方法MAD\n",
        "找出trigger类别"
      ]
    },
    {
      "cell_type": "code",
      "execution_count": 6,
      "metadata": {
        "id": "RXyyoDL-7Ncy"
      },
      "outputs": [],
      "source": [
        "from tensorflow.keras.utils import load_img,img_to_array\n",
        "\n",
        "RESULT_DIR = 'mask'  # directory for storing results\n",
        "\n",
        "# input size\n",
        "IMG_ROWS = 32\n",
        "IMG_COLS = 32\n",
        "IMG_COLOR = 3\n",
        "INPUT_SHAPE = (IMG_ROWS, IMG_COLS, IMG_COLOR)\n",
        "NUM_CLASSES = 10  \n",
        "\n",
        "\n",
        "def outlier_detection(l1_norm_list, idx_mapping):\n",
        "    \"\"\"MAD异常值检测\"\"\"\n",
        "\n",
        "    # 计算MAD的median值\n",
        "    consistency_constant = 1.4826  # if normal distribution\n",
        "    median = np.median(l1_norm_list)\n",
        "    mad = consistency_constant * np.median(np.abs(l1_norm_list - median))\n",
        "    min_mad = np.abs(np.min(l1_norm_list) - median) / mad\n",
        "\n",
        "    # anomaly index值大于2则认为模型存在后门\n",
        "    print('median: %f, MAD: %f' % (median, mad))\n",
        "    print('anomaly index: %f' % min_mad)\n",
        "\n",
        "    # 找出norm大于2的mask标签\n",
        "    flag_list = []\n",
        "    for y_label in idx_mapping:\n",
        "        if l1_norm_list[idx_mapping[y_label]] > median:\n",
        "            continue\n",
        "        if np.abs(l1_norm_list[idx_mapping[y_label]] - median) / mad > 2:\n",
        "            flag_list.append((y_label, l1_norm_list[idx_mapping[y_label]]))\n",
        "\n",
        "    if len(flag_list) > 0:\n",
        "        flag_list = sorted(flag_list, key=lambda x: x[1])\n",
        "\n",
        "    print('flagged label list: %s' %\n",
        "          ', '.join(['%d: %2f' % (y_label, l_norm)\n",
        "                     for y_label, l_norm in flag_list]))\n",
        "\n",
        "    pass\n",
        "\n",
        "\n",
        "def analyze_pattern_norm_dist():\n",
        "\n",
        "    mask_flatten = []\n",
        "    idx_mapping = {}\n",
        "\n",
        "    # 读取每个标签的mask\n",
        "    for y_label in range(NUM_CLASSES):\n",
        "        mask_filename = \"mask_%s.png\" % y_label\n",
        "        if os.path.isfile('%s/%s' % (RESULT_DIR, mask_filename)):\n",
        "            img = load_img(\n",
        "                '%s/%s' % (RESULT_DIR, mask_filename),\n",
        "                color_mode='grayscale',\n",
        "                target_size=INPUT_SHAPE)\n",
        "            mask = img_to_array(img)\n",
        "            mask /= 255\n",
        "            mask = mask[:, :, 0]\n",
        "            mask_flatten.append(mask.flatten())\n",
        "            idx_mapping[y_label] = len(mask_flatten) - 1\n",
        "\n",
        "    # 计算每个mask的L1 norm值\n",
        "    l1_norm_list = [np.sum(np.abs(m)) for m in mask_flatten]\n",
        "    print('%d labels found' % len(l1_norm_list))\n",
        "    print(\"L1 Norm List:\",l1_norm_list)\n",
        "\n",
        "    # 对L1 norm值进行异常值检测\n",
        "    outlier_detection(l1_norm_list, idx_mapping)\n",
        "\n",
        "    pass\n",
        "\n"
      ]
    },
    {
      "cell_type": "code",
      "execution_count": 7,
      "metadata": {
        "colab": {
          "base_uri": "https://localhost:8080/"
        },
        "id": "9hWA3Rko7bej",
        "outputId": "14ab613e-bbc0-45b6-9275-7ae993b7fabd"
      },
      "outputs": [
        {
          "name": "stdout",
          "output_type": "stream",
          "text": [
            "10 labels found\n",
            "L1 Norm List: [146.78825, 144.14119, 149.55688, 149.44315, 147.98041, 145.34119, 150.00787, 143.87451, 127.50589, 144.34119]\n",
            "median: 146.064728, MAD: 3.049526\n",
            "anomaly index: 6.085811\n",
            "flagged label list: 8: 127.505890\n"
          ]
        }
      ],
      "source": [
        "analyze_pattern_norm_dist()"
      ]
    }
  ],
  "metadata": {
    "accelerator": "GPU",
    "colab": {
      "provenance": []
    },
    "gpuClass": "standard",
    "kernelspec": {
      "display_name": ".venv",
      "language": "python",
      "name": "python3"
    },
    "language_info": {
      "codemirror_mode": {
        "name": "ipython",
        "version": 3
      },
      "file_extension": ".py",
      "mimetype": "text/x-python",
      "name": "python",
      "nbconvert_exporter": "python",
      "pygments_lexer": "ipython3",
      "version": "3.10.12"
    }
  },
  "nbformat": 4,
  "nbformat_minor": 0
}
