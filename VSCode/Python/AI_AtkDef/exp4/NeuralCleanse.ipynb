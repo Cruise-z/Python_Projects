{
  "cells": [
    {
      "cell_type": "markdown",
      "metadata": {
        "id": "cv50IfP7AW3w"
      },
      "source": [
        "# Neural Cleanse 实现代码【pytorch】"
      ]
    },
    {
      "cell_type": "code",
      "execution_count": 1,
      "metadata": {
        "colab": {
          "base_uri": "https://localhost:8080/"
        },
        "id": "01972V6ygj9d",
        "outputId": "a17a5863-1340-4c18-b284-747a04ab4906"
      },
      "outputs": [],
      "source": [
        "#!git clone https://github.com/tonggege001/MyNeuralCleanse.git"
      ]
    },
    {
      "cell_type": "code",
      "execution_count": 2,
      "metadata": {
        "id": "pADQ9BiP2ezj"
      },
      "outputs": [
        {
          "name": "stderr",
          "output_type": "stream",
          "text": [
            "2024-10-09 11:14:44.599541: I tensorflow/core/util/port.cc:153] oneDNN custom operations are on. You may see slightly different numerical results due to floating-point round-off errors from different computation orders. To turn them off, set the environment variable `TF_ENABLE_ONEDNN_OPTS=0`.\n",
            "2024-10-09 11:14:44.609341: E external/local_xla/xla/stream_executor/cuda/cuda_fft.cc:485] Unable to register cuFFT factory: Attempting to register factory for plugin cuFFT when one has already been registered\n",
            "2024-10-09 11:14:44.621933: E external/local_xla/xla/stream_executor/cuda/cuda_dnn.cc:8454] Unable to register cuDNN factory: Attempting to register factory for plugin cuDNN when one has already been registered\n",
            "2024-10-09 11:14:44.625751: E external/local_xla/xla/stream_executor/cuda/cuda_blas.cc:1452] Unable to register cuBLAS factory: Attempting to register factory for plugin cuBLAS when one has already been registered\n",
            "2024-10-09 11:14:44.635208: I tensorflow/core/platform/cpu_feature_guard.cc:210] This TensorFlow binary is optimized to use available CPU instructions in performance-critical operations.\n",
            "To enable the following instructions: AVX2 AVX_VNNI FMA, in other operations, rebuild TensorFlow with the appropriate compiler flags.\n",
            "2024-10-09 11:14:45.377262: W tensorflow/compiler/tf2tensorrt/utils/py_utils.cc:38] TF-TRT Warning: Could not find TensorRT\n"
          ]
        }
      ],
      "source": [
        "import os\n",
        "os.chdir(\"./NeuralCleanse_Torch\")\n",
        "\n",
        "import torch\n",
        "import numpy as np\n",
        "from torch.nn import CrossEntropyLoss\n",
        "import tqdm\n",
        "from torch.utils.data import DataLoader, TensorDataset\n",
        "import matplotlib.pyplot as plt\n",
        "from data import get_data\n",
        "\n",
        "device = torch.device(\"cuda:0\" if torch.cuda.is_available() else \"cpu\")"
      ]
    },
    {
      "cell_type": "markdown",
      "metadata": {
        "id": "Uq8yvJL8ABMA"
      },
      "source": [
        "## 模型逆向\n",
        "对每个标签依次优化mask，使得训练集图片加上mask之后能分到该标签"
      ]
    },
    {
      "cell_type": "code",
      "execution_count": 3,
      "metadata": {
        "id": "K2CbJd14hDDf"
      },
      "outputs": [],
      "source": [
        "\n",
        "def train(model, target_label, train_loader, param):\n",
        "    \"\"\"对某一target_label的逆向trigger过程\"\"\"\n",
        "\n",
        "    print(\"\\nProcessing label: {}\".format(target_label))\n",
        "\n",
        "    # 设置初始的随机trigger，以及mask\n",
        "    width, height = param[\"image_size\"]\n",
        "    trigger = torch.rand((3, width, height), requires_grad=True)\n",
        "    trigger = trigger.to(device).detach().requires_grad_(True)\n",
        "    mask = torch.rand((width, height), requires_grad=True)  \n",
        "    mask = mask.to(device).detach().requires_grad_(True)\n",
        "\n",
        "    # 优化器的优化参数为trigger以及mask\n",
        "    optimizer = torch.optim.Adam([{\"params\": trigger},{\"params\": mask}],lr=0.005)\n",
        "    criterion = CrossEntropyLoss()\n",
        "    model.to(device)\n",
        "    model.eval()\n",
        "\n",
        "    # 训练参数\n",
        "    Epochs = param[\"Epochs\"]\n",
        "    lamda = param[\"lamda\"]\n",
        "\n",
        "    # 记录mask的norm值，初始值为无穷大\n",
        "    min_norm = np.inf \n",
        "    min_norm_count = 0\n",
        "\n",
        "    # 遍历训练集数据，训练Epochs轮\n",
        "    for epoch in range(Epochs):\n",
        "        norm = 0.0\n",
        "        for images, _ in tqdm.tqdm(train_loader, desc='Epoch %3d' % (epoch + 1)):\n",
        "            optimizer.zero_grad()\n",
        "            images = images.to(device)\n",
        "\n",
        "            # 把trigger和mask添加到图片上\n",
        "            trojan_images = (1 - torch.unsqueeze(mask, dim=0)) * images + torch.unsqueeze(mask, dim=0) * trigger\n",
        "            \n",
        "            # 一般训练过程\n",
        "            y_pred = model(trojan_images)\n",
        "            y_target = torch.full((y_pred.size(0),), target_label, dtype=torch.long).to(device)\n",
        "            loss = criterion(y_pred, y_target) + lamda * torch.sum(torch.abs(mask))\n",
        "            loss.backward()\n",
        "            optimizer.step()\n",
        "\n",
        "            # 计算mask的norm\n",
        "            with torch.no_grad():\n",
        "                # 防止trigger和norm越界\n",
        "                torch.clip_(trigger, 0, 1)\n",
        "                torch.clip_(mask, 0, 1)\n",
        "                norm = torch.sum(torch.abs(mask))\n",
        "        print(\"norm: {}\".format(norm))\n",
        "\n",
        "        # early stop\n",
        "        if norm < min_norm:\n",
        "            min_norm = norm\n",
        "            min_norm_count = 0\n",
        "        else:\n",
        "            min_norm_count += 1\n",
        "\n",
        "        if min_norm_count > 5:\n",
        "            break\n",
        "\n",
        "    return trigger.cpu(), mask.cpu()\n",
        "\n",
        "\n",
        "\n",
        "def reverse_engineer():\n",
        "    param = {\n",
        "        \"dataset\": \"cifar10\",\n",
        "        \"Epochs\": 20,  # 每个类别进行trigger逆向训练的轮数\n",
        "        \"batch_size\": 64,\n",
        "        \"lamda\": 0.01,\n",
        "        \"num_classes\": 10,\n",
        "        \"image_size\": (32, 32)\n",
        "    }\n",
        "\n",
        "    # 加载模型和数据集\n",
        "    model = torch.load('model_cifar10.pkl', weights_only=False).to(device)\n",
        "    _, _, x_test, y_test = get_data(param)\n",
        "    x_test, y_test = torch.from_numpy(x_test)/255., torch.from_numpy(y_test)\n",
        "    train_loader = DataLoader(TensorDataset(x_test, y_test), batch_size=param[\"batch_size\"], shuffle=False)\n",
        "    \n",
        "    # 开始逆向，依次遍历每个标签 \n",
        "    norm_list = []\n",
        "    for label in range(param[\"num_classes\"]):\n",
        "        # 对每个标签，逆向对应的trigger和mask\n",
        "        trigger, mask = train(model, label, train_loader, param)\n",
        "        norm_list.append(mask.sum().item())\n",
        "\n",
        "        # 将逆向出的trigger和mask图像保存\n",
        "        trigger = trigger.cpu().detach().numpy()\n",
        "        trigger = np.transpose(trigger, (1,2,0))\n",
        "        plt.axis(\"off\")\n",
        "        plt.imshow(trigger)\n",
        "        plt.savefig('mask/trigger_{}.png'.format(label), bbox_inches='tight', pad_inches=0.0)\n",
        "\n",
        "        mask = mask.cpu().detach().numpy()\n",
        "        plt.axis(\"off\")\n",
        "        plt.imshow(mask)\n",
        "        plt.savefig('mask/mask_{}.png'.format(label), bbox_inches='tight', pad_inches=0.0)\n",
        "\n",
        "    print(norm_list)\n"
      ]
    },
    {
      "cell_type": "code",
      "execution_count": 4,
      "metadata": {
        "colab": {
          "base_uri": "https://localhost:8080/",
          "height": 1000
        },
        "id": "Y8oI6-Al2KDp",
        "outputId": "d4f2de8e-86e2-4e51-9ef0-76dd97dc2332"
      },
      "outputs": [
        {
          "name": "stdout",
          "output_type": "stream",
          "text": [
            "\n",
            "Processing label: 0\n"
          ]
        },
        {
          "name": "stderr",
          "output_type": "stream",
          "text": [
            "Epoch   1: 100%|██████████| 157/157 [00:00<00:00, 166.40it/s]\n"
          ]
        },
        {
          "name": "stdout",
          "output_type": "stream",
          "text": [
            "norm: 326.2520751953125\n"
          ]
        },
        {
          "name": "stderr",
          "output_type": "stream",
          "text": [
            "Epoch   2: 100%|██████████| 157/157 [00:00<00:00, 241.49it/s]\n"
          ]
        },
        {
          "name": "stdout",
          "output_type": "stream",
          "text": [
            "norm: 160.39065551757812\n"
          ]
        },
        {
          "name": "stderr",
          "output_type": "stream",
          "text": [
            "Epoch   3: 100%|██████████| 157/157 [00:00<00:00, 236.39it/s]\n"
          ]
        },
        {
          "name": "stdout",
          "output_type": "stream",
          "text": [
            "norm: 87.38629150390625\n"
          ]
        },
        {
          "name": "stderr",
          "output_type": "stream",
          "text": [
            "Epoch   4: 100%|██████████| 157/157 [00:00<00:00, 237.03it/s]\n"
          ]
        },
        {
          "name": "stdout",
          "output_type": "stream",
          "text": [
            "norm: 56.13905334472656\n"
          ]
        },
        {
          "name": "stderr",
          "output_type": "stream",
          "text": [
            "Epoch   5: 100%|██████████| 157/157 [00:00<00:00, 242.36it/s]\n"
          ]
        },
        {
          "name": "stdout",
          "output_type": "stream",
          "text": [
            "norm: 44.010433197021484\n"
          ]
        },
        {
          "name": "stderr",
          "output_type": "stream",
          "text": [
            "Epoch   6: 100%|██████████| 157/157 [00:00<00:00, 241.20it/s]\n"
          ]
        },
        {
          "name": "stdout",
          "output_type": "stream",
          "text": [
            "norm: 38.44121551513672\n"
          ]
        },
        {
          "name": "stderr",
          "output_type": "stream",
          "text": [
            "Epoch   7: 100%|██████████| 157/157 [00:00<00:00, 238.93it/s]\n"
          ]
        },
        {
          "name": "stdout",
          "output_type": "stream",
          "text": [
            "norm: 36.03856658935547\n"
          ]
        },
        {
          "name": "stderr",
          "output_type": "stream",
          "text": [
            "Epoch   8: 100%|██████████| 157/157 [00:00<00:00, 242.27it/s]\n"
          ]
        },
        {
          "name": "stdout",
          "output_type": "stream",
          "text": [
            "norm: 34.935638427734375\n"
          ]
        },
        {
          "name": "stderr",
          "output_type": "stream",
          "text": [
            "Epoch   9: 100%|██████████| 157/157 [00:00<00:00, 237.94it/s]\n"
          ]
        },
        {
          "name": "stdout",
          "output_type": "stream",
          "text": [
            "norm: 33.94831085205078\n"
          ]
        },
        {
          "name": "stderr",
          "output_type": "stream",
          "text": [
            "Epoch  10: 100%|██████████| 157/157 [00:00<00:00, 232.46it/s]\n"
          ]
        },
        {
          "name": "stdout",
          "output_type": "stream",
          "text": [
            "norm: 33.12739181518555\n"
          ]
        },
        {
          "name": "stderr",
          "output_type": "stream",
          "text": [
            "Epoch  11: 100%|██████████| 157/157 [00:00<00:00, 167.45it/s]\n"
          ]
        },
        {
          "name": "stdout",
          "output_type": "stream",
          "text": [
            "norm: 32.55458450317383\n"
          ]
        },
        {
          "name": "stderr",
          "output_type": "stream",
          "text": [
            "Epoch  12: 100%|██████████| 157/157 [00:00<00:00, 183.06it/s]\n"
          ]
        },
        {
          "name": "stdout",
          "output_type": "stream",
          "text": [
            "norm: 32.180747985839844\n"
          ]
        },
        {
          "name": "stderr",
          "output_type": "stream",
          "text": [
            "Epoch  13: 100%|██████████| 157/157 [00:00<00:00, 165.46it/s]\n"
          ]
        },
        {
          "name": "stdout",
          "output_type": "stream",
          "text": [
            "norm: 31.82164764404297\n"
          ]
        },
        {
          "name": "stderr",
          "output_type": "stream",
          "text": [
            "Epoch  14: 100%|██████████| 157/157 [00:00<00:00, 209.54it/s]\n"
          ]
        },
        {
          "name": "stdout",
          "output_type": "stream",
          "text": [
            "norm: 31.68907928466797\n"
          ]
        },
        {
          "name": "stderr",
          "output_type": "stream",
          "text": [
            "Epoch  15: 100%|██████████| 157/157 [00:00<00:00, 179.47it/s]\n"
          ]
        },
        {
          "name": "stdout",
          "output_type": "stream",
          "text": [
            "norm: 31.59511947631836\n"
          ]
        },
        {
          "name": "stderr",
          "output_type": "stream",
          "text": [
            "Epoch  16: 100%|██████████| 157/157 [00:00<00:00, 214.99it/s]\n"
          ]
        },
        {
          "name": "stdout",
          "output_type": "stream",
          "text": [
            "norm: 31.553733825683594\n"
          ]
        },
        {
          "name": "stderr",
          "output_type": "stream",
          "text": [
            "Epoch  17: 100%|██████████| 157/157 [00:00<00:00, 161.07it/s]\n"
          ]
        },
        {
          "name": "stdout",
          "output_type": "stream",
          "text": [
            "norm: 31.49306869506836\n"
          ]
        },
        {
          "name": "stderr",
          "output_type": "stream",
          "text": [
            "Epoch  18: 100%|██████████| 157/157 [00:00<00:00, 237.76it/s]\n"
          ]
        },
        {
          "name": "stdout",
          "output_type": "stream",
          "text": [
            "norm: 31.46240234375\n"
          ]
        },
        {
          "name": "stderr",
          "output_type": "stream",
          "text": [
            "Epoch  19: 100%|██████████| 157/157 [00:00<00:00, 238.41it/s]\n"
          ]
        },
        {
          "name": "stdout",
          "output_type": "stream",
          "text": [
            "norm: 31.337453842163086\n"
          ]
        },
        {
          "name": "stderr",
          "output_type": "stream",
          "text": [
            "Epoch  20: 100%|██████████| 157/157 [00:00<00:00, 235.04it/s]\n"
          ]
        },
        {
          "name": "stdout",
          "output_type": "stream",
          "text": [
            "norm: 31.243080139160156\n",
            "\n",
            "Processing label: 1\n"
          ]
        },
        {
          "name": "stderr",
          "output_type": "stream",
          "text": [
            "Epoch   1: 100%|██████████| 157/157 [00:00<00:00, 171.54it/s]\n"
          ]
        },
        {
          "name": "stdout",
          "output_type": "stream",
          "text": [
            "norm: 342.4000244140625\n"
          ]
        },
        {
          "name": "stderr",
          "output_type": "stream",
          "text": [
            "Epoch   2: 100%|██████████| 157/157 [00:00<00:00, 166.62it/s]\n"
          ]
        },
        {
          "name": "stdout",
          "output_type": "stream",
          "text": [
            "norm: 172.37083435058594\n"
          ]
        },
        {
          "name": "stderr",
          "output_type": "stream",
          "text": [
            "Epoch   3: 100%|██████████| 157/157 [00:00<00:00, 183.32it/s]\n"
          ]
        },
        {
          "name": "stdout",
          "output_type": "stream",
          "text": [
            "norm: 93.13136291503906\n"
          ]
        },
        {
          "name": "stderr",
          "output_type": "stream",
          "text": [
            "Epoch   4: 100%|██████████| 157/157 [00:00<00:00, 243.74it/s]\n"
          ]
        },
        {
          "name": "stdout",
          "output_type": "stream",
          "text": [
            "norm: 60.44936752319336\n"
          ]
        },
        {
          "name": "stderr",
          "output_type": "stream",
          "text": [
            "Epoch   5: 100%|██████████| 157/157 [00:00<00:00, 237.99it/s]\n"
          ]
        },
        {
          "name": "stdout",
          "output_type": "stream",
          "text": [
            "norm: 48.56776428222656\n"
          ]
        },
        {
          "name": "stderr",
          "output_type": "stream",
          "text": [
            "Epoch   6: 100%|██████████| 157/157 [00:00<00:00, 233.98it/s]\n"
          ]
        },
        {
          "name": "stdout",
          "output_type": "stream",
          "text": [
            "norm: 43.636802673339844\n"
          ]
        },
        {
          "name": "stderr",
          "output_type": "stream",
          "text": [
            "Epoch   7: 100%|██████████| 157/157 [00:00<00:00, 217.25it/s]\n"
          ]
        },
        {
          "name": "stdout",
          "output_type": "stream",
          "text": [
            "norm: 41.581207275390625\n"
          ]
        },
        {
          "name": "stderr",
          "output_type": "stream",
          "text": [
            "Epoch   8: 100%|██████████| 157/157 [00:00<00:00, 239.91it/s]\n"
          ]
        },
        {
          "name": "stdout",
          "output_type": "stream",
          "text": [
            "norm: 40.45667266845703\n"
          ]
        },
        {
          "name": "stderr",
          "output_type": "stream",
          "text": [
            "Epoch   9: 100%|██████████| 157/157 [00:00<00:00, 240.83it/s]\n"
          ]
        },
        {
          "name": "stdout",
          "output_type": "stream",
          "text": [
            "norm: 39.63177490234375\n"
          ]
        },
        {
          "name": "stderr",
          "output_type": "stream",
          "text": [
            "Epoch  10: 100%|██████████| 157/157 [00:00<00:00, 223.72it/s]\n"
          ]
        },
        {
          "name": "stdout",
          "output_type": "stream",
          "text": [
            "norm: 38.90983200073242\n"
          ]
        },
        {
          "name": "stderr",
          "output_type": "stream",
          "text": [
            "Epoch  11: 100%|██████████| 157/157 [00:00<00:00, 235.72it/s]\n"
          ]
        },
        {
          "name": "stdout",
          "output_type": "stream",
          "text": [
            "norm: 38.248680114746094\n"
          ]
        },
        {
          "name": "stderr",
          "output_type": "stream",
          "text": [
            "Epoch  12: 100%|██████████| 157/157 [00:00<00:00, 236.77it/s]\n"
          ]
        },
        {
          "name": "stdout",
          "output_type": "stream",
          "text": [
            "norm: 37.58835983276367\n"
          ]
        },
        {
          "name": "stderr",
          "output_type": "stream",
          "text": [
            "Epoch  13: 100%|██████████| 157/157 [00:00<00:00, 219.42it/s]\n"
          ]
        },
        {
          "name": "stdout",
          "output_type": "stream",
          "text": [
            "norm: 37.2663459777832\n"
          ]
        },
        {
          "name": "stderr",
          "output_type": "stream",
          "text": [
            "Epoch  14: 100%|██████████| 157/157 [00:00<00:00, 202.19it/s]\n"
          ]
        },
        {
          "name": "stdout",
          "output_type": "stream",
          "text": [
            "norm: 37.07246017456055\n"
          ]
        },
        {
          "name": "stderr",
          "output_type": "stream",
          "text": [
            "Epoch  15: 100%|██████████| 157/157 [00:00<00:00, 180.25it/s]\n"
          ]
        },
        {
          "name": "stdout",
          "output_type": "stream",
          "text": [
            "norm: 36.83578109741211\n"
          ]
        },
        {
          "name": "stderr",
          "output_type": "stream",
          "text": [
            "Epoch  16: 100%|██████████| 157/157 [00:00<00:00, 204.88it/s]\n"
          ]
        },
        {
          "name": "stdout",
          "output_type": "stream",
          "text": [
            "norm: 36.503482818603516\n"
          ]
        },
        {
          "name": "stderr",
          "output_type": "stream",
          "text": [
            "Epoch  17: 100%|██████████| 157/157 [00:00<00:00, 189.11it/s]\n"
          ]
        },
        {
          "name": "stdout",
          "output_type": "stream",
          "text": [
            "norm: 35.927093505859375\n"
          ]
        },
        {
          "name": "stderr",
          "output_type": "stream",
          "text": [
            "Epoch  18: 100%|██████████| 157/157 [00:00<00:00, 233.27it/s]\n"
          ]
        },
        {
          "name": "stdout",
          "output_type": "stream",
          "text": [
            "norm: 35.52445983886719\n"
          ]
        },
        {
          "name": "stderr",
          "output_type": "stream",
          "text": [
            "Epoch  19: 100%|██████████| 157/157 [00:00<00:00, 239.86it/s]\n"
          ]
        },
        {
          "name": "stdout",
          "output_type": "stream",
          "text": [
            "norm: 35.21759796142578\n"
          ]
        },
        {
          "name": "stderr",
          "output_type": "stream",
          "text": [
            "Epoch  20: 100%|██████████| 157/157 [00:00<00:00, 242.25it/s]\n"
          ]
        },
        {
          "name": "stdout",
          "output_type": "stream",
          "text": [
            "norm: 34.76393127441406\n",
            "\n",
            "Processing label: 2\n"
          ]
        },
        {
          "name": "stderr",
          "output_type": "stream",
          "text": [
            "Epoch   1: 100%|██████████| 157/157 [00:00<00:00, 243.58it/s]\n"
          ]
        },
        {
          "name": "stdout",
          "output_type": "stream",
          "text": [
            "norm: 293.01483154296875\n"
          ]
        },
        {
          "name": "stderr",
          "output_type": "stream",
          "text": [
            "Epoch   2: 100%|██████████| 157/157 [00:00<00:00, 236.93it/s]\n"
          ]
        },
        {
          "name": "stdout",
          "output_type": "stream",
          "text": [
            "norm: 125.07695770263672\n"
          ]
        },
        {
          "name": "stderr",
          "output_type": "stream",
          "text": [
            "Epoch   3: 100%|██████████| 157/157 [00:00<00:00, 229.19it/s]\n"
          ]
        },
        {
          "name": "stdout",
          "output_type": "stream",
          "text": [
            "norm: 70.83192443847656\n"
          ]
        },
        {
          "name": "stderr",
          "output_type": "stream",
          "text": [
            "Epoch   4: 100%|██████████| 157/157 [00:00<00:00, 239.03it/s]\n"
          ]
        },
        {
          "name": "stdout",
          "output_type": "stream",
          "text": [
            "norm: 53.56209945678711\n"
          ]
        },
        {
          "name": "stderr",
          "output_type": "stream",
          "text": [
            "Epoch   5: 100%|██████████| 157/157 [00:00<00:00, 217.19it/s]\n"
          ]
        },
        {
          "name": "stdout",
          "output_type": "stream",
          "text": [
            "norm: 47.931007385253906\n"
          ]
        },
        {
          "name": "stderr",
          "output_type": "stream",
          "text": [
            "Epoch   6: 100%|██████████| 157/157 [00:00<00:00, 184.43it/s]\n"
          ]
        },
        {
          "name": "stdout",
          "output_type": "stream",
          "text": [
            "norm: 44.5235481262207\n"
          ]
        },
        {
          "name": "stderr",
          "output_type": "stream",
          "text": [
            "Epoch   7: 100%|██████████| 157/157 [00:00<00:00, 214.21it/s]\n"
          ]
        },
        {
          "name": "stdout",
          "output_type": "stream",
          "text": [
            "norm: 42.042179107666016\n"
          ]
        },
        {
          "name": "stderr",
          "output_type": "stream",
          "text": [
            "Epoch   8: 100%|██████████| 157/157 [00:00<00:00, 236.76it/s]\n"
          ]
        },
        {
          "name": "stdout",
          "output_type": "stream",
          "text": [
            "norm: 40.75973892211914\n"
          ]
        },
        {
          "name": "stderr",
          "output_type": "stream",
          "text": [
            "Epoch   9: 100%|██████████| 157/157 [00:00<00:00, 240.71it/s]\n"
          ]
        },
        {
          "name": "stdout",
          "output_type": "stream",
          "text": [
            "norm: 39.85127258300781\n"
          ]
        },
        {
          "name": "stderr",
          "output_type": "stream",
          "text": [
            "Epoch  10: 100%|██████████| 157/157 [00:00<00:00, 240.06it/s]\n"
          ]
        },
        {
          "name": "stdout",
          "output_type": "stream",
          "text": [
            "norm: 39.271995544433594\n"
          ]
        },
        {
          "name": "stderr",
          "output_type": "stream",
          "text": [
            "Epoch  11: 100%|██████████| 157/157 [00:00<00:00, 228.35it/s]\n"
          ]
        },
        {
          "name": "stdout",
          "output_type": "stream",
          "text": [
            "norm: 39.03618240356445\n"
          ]
        },
        {
          "name": "stderr",
          "output_type": "stream",
          "text": [
            "Epoch  12: 100%|██████████| 157/157 [00:00<00:00, 209.07it/s]\n"
          ]
        },
        {
          "name": "stdout",
          "output_type": "stream",
          "text": [
            "norm: 38.85588836669922\n"
          ]
        },
        {
          "name": "stderr",
          "output_type": "stream",
          "text": [
            "Epoch  13: 100%|██████████| 157/157 [00:00<00:00, 208.77it/s]\n"
          ]
        },
        {
          "name": "stdout",
          "output_type": "stream",
          "text": [
            "norm: 38.73902893066406\n"
          ]
        },
        {
          "name": "stderr",
          "output_type": "stream",
          "text": [
            "Epoch  14: 100%|██████████| 157/157 [00:00<00:00, 207.98it/s]\n"
          ]
        },
        {
          "name": "stdout",
          "output_type": "stream",
          "text": [
            "norm: 38.57101821899414\n"
          ]
        },
        {
          "name": "stderr",
          "output_type": "stream",
          "text": [
            "Epoch  15: 100%|██████████| 157/157 [00:00<00:00, 218.96it/s]\n"
          ]
        },
        {
          "name": "stdout",
          "output_type": "stream",
          "text": [
            "norm: 38.48524856567383\n"
          ]
        },
        {
          "name": "stderr",
          "output_type": "stream",
          "text": [
            "Epoch  16: 100%|██████████| 157/157 [00:00<00:00, 217.46it/s]\n"
          ]
        },
        {
          "name": "stdout",
          "output_type": "stream",
          "text": [
            "norm: 38.47750473022461\n"
          ]
        },
        {
          "name": "stderr",
          "output_type": "stream",
          "text": [
            "Epoch  17: 100%|██████████| 157/157 [00:00<00:00, 215.54it/s]\n"
          ]
        },
        {
          "name": "stdout",
          "output_type": "stream",
          "text": [
            "norm: 38.43600845336914\n"
          ]
        },
        {
          "name": "stderr",
          "output_type": "stream",
          "text": [
            "Epoch  18: 100%|██████████| 157/157 [00:00<00:00, 186.64it/s]\n"
          ]
        },
        {
          "name": "stdout",
          "output_type": "stream",
          "text": [
            "norm: 38.38996124267578\n"
          ]
        },
        {
          "name": "stderr",
          "output_type": "stream",
          "text": [
            "Epoch  19: 100%|██████████| 157/157 [00:00<00:00, 240.41it/s]\n"
          ]
        },
        {
          "name": "stdout",
          "output_type": "stream",
          "text": [
            "norm: 38.36800765991211\n"
          ]
        },
        {
          "name": "stderr",
          "output_type": "stream",
          "text": [
            "Epoch  20: 100%|██████████| 157/157 [00:00<00:00, 232.64it/s]\n"
          ]
        },
        {
          "name": "stdout",
          "output_type": "stream",
          "text": [
            "norm: 38.227481842041016\n",
            "\n",
            "Processing label: 3\n"
          ]
        },
        {
          "name": "stderr",
          "output_type": "stream",
          "text": [
            "Epoch   1: 100%|██████████| 157/157 [00:00<00:00, 233.35it/s]\n"
          ]
        },
        {
          "name": "stdout",
          "output_type": "stream",
          "text": [
            "norm: 205.72311401367188\n"
          ]
        },
        {
          "name": "stderr",
          "output_type": "stream",
          "text": [
            "Epoch   2: 100%|██████████| 157/157 [00:00<00:00, 198.62it/s]\n"
          ]
        },
        {
          "name": "stdout",
          "output_type": "stream",
          "text": [
            "norm: 89.48381042480469\n"
          ]
        },
        {
          "name": "stderr",
          "output_type": "stream",
          "text": [
            "Epoch   3: 100%|██████████| 157/157 [00:00<00:00, 181.24it/s]\n"
          ]
        },
        {
          "name": "stdout",
          "output_type": "stream",
          "text": [
            "norm: 62.80386734008789\n"
          ]
        },
        {
          "name": "stderr",
          "output_type": "stream",
          "text": [
            "Epoch   4: 100%|██████████| 157/157 [00:00<00:00, 202.86it/s]\n"
          ]
        },
        {
          "name": "stdout",
          "output_type": "stream",
          "text": [
            "norm: 54.359378814697266\n"
          ]
        },
        {
          "name": "stderr",
          "output_type": "stream",
          "text": [
            "Epoch   5: 100%|██████████| 157/157 [00:00<00:00, 237.19it/s]\n"
          ]
        },
        {
          "name": "stdout",
          "output_type": "stream",
          "text": [
            "norm: 49.64789581298828\n"
          ]
        },
        {
          "name": "stderr",
          "output_type": "stream",
          "text": [
            "Epoch   6: 100%|██████████| 157/157 [00:00<00:00, 235.59it/s]\n"
          ]
        },
        {
          "name": "stdout",
          "output_type": "stream",
          "text": [
            "norm: 47.608970642089844\n"
          ]
        },
        {
          "name": "stderr",
          "output_type": "stream",
          "text": [
            "Epoch   7: 100%|██████████| 157/157 [00:00<00:00, 226.61it/s]\n"
          ]
        },
        {
          "name": "stdout",
          "output_type": "stream",
          "text": [
            "norm: 46.806671142578125\n"
          ]
        },
        {
          "name": "stderr",
          "output_type": "stream",
          "text": [
            "Epoch   8: 100%|██████████| 157/157 [00:00<00:00, 218.22it/s]\n"
          ]
        },
        {
          "name": "stdout",
          "output_type": "stream",
          "text": [
            "norm: 46.17887878417969\n"
          ]
        },
        {
          "name": "stderr",
          "output_type": "stream",
          "text": [
            "Epoch   9: 100%|██████████| 157/157 [00:00<00:00, 212.63it/s]\n"
          ]
        },
        {
          "name": "stdout",
          "output_type": "stream",
          "text": [
            "norm: 45.564476013183594\n"
          ]
        },
        {
          "name": "stderr",
          "output_type": "stream",
          "text": [
            "Epoch  10: 100%|██████████| 157/157 [00:00<00:00, 223.75it/s]\n"
          ]
        },
        {
          "name": "stdout",
          "output_type": "stream",
          "text": [
            "norm: 45.257568359375\n"
          ]
        },
        {
          "name": "stderr",
          "output_type": "stream",
          "text": [
            "Epoch  11: 100%|██████████| 157/157 [00:00<00:00, 237.72it/s]\n"
          ]
        },
        {
          "name": "stdout",
          "output_type": "stream",
          "text": [
            "norm: 44.907386779785156\n"
          ]
        },
        {
          "name": "stderr",
          "output_type": "stream",
          "text": [
            "Epoch  12: 100%|██████████| 157/157 [00:00<00:00, 246.12it/s]\n"
          ]
        },
        {
          "name": "stdout",
          "output_type": "stream",
          "text": [
            "norm: 44.70494079589844\n"
          ]
        },
        {
          "name": "stderr",
          "output_type": "stream",
          "text": [
            "Epoch  13: 100%|██████████| 157/157 [00:00<00:00, 247.34it/s]\n"
          ]
        },
        {
          "name": "stdout",
          "output_type": "stream",
          "text": [
            "norm: 44.40489959716797\n"
          ]
        },
        {
          "name": "stderr",
          "output_type": "stream",
          "text": [
            "Epoch  14: 100%|██████████| 157/157 [00:00<00:00, 237.20it/s]\n"
          ]
        },
        {
          "name": "stdout",
          "output_type": "stream",
          "text": [
            "norm: 43.548423767089844\n"
          ]
        },
        {
          "name": "stderr",
          "output_type": "stream",
          "text": [
            "Epoch  15: 100%|██████████| 157/157 [00:00<00:00, 239.33it/s]\n"
          ]
        },
        {
          "name": "stdout",
          "output_type": "stream",
          "text": [
            "norm: 43.08463668823242\n"
          ]
        },
        {
          "name": "stderr",
          "output_type": "stream",
          "text": [
            "Epoch  16: 100%|██████████| 157/157 [00:00<00:00, 234.60it/s]\n"
          ]
        },
        {
          "name": "stdout",
          "output_type": "stream",
          "text": [
            "norm: 42.88501739501953\n"
          ]
        },
        {
          "name": "stderr",
          "output_type": "stream",
          "text": [
            "Epoch  17: 100%|██████████| 157/157 [00:00<00:00, 245.51it/s]\n"
          ]
        },
        {
          "name": "stdout",
          "output_type": "stream",
          "text": [
            "norm: 42.843814849853516\n"
          ]
        },
        {
          "name": "stderr",
          "output_type": "stream",
          "text": [
            "Epoch  18: 100%|██████████| 157/157 [00:00<00:00, 242.51it/s]\n"
          ]
        },
        {
          "name": "stdout",
          "output_type": "stream",
          "text": [
            "norm: 42.77484893798828\n"
          ]
        },
        {
          "name": "stderr",
          "output_type": "stream",
          "text": [
            "Epoch  19: 100%|██████████| 157/157 [00:00<00:00, 207.80it/s]\n"
          ]
        },
        {
          "name": "stdout",
          "output_type": "stream",
          "text": [
            "norm: 42.55313491821289\n"
          ]
        },
        {
          "name": "stderr",
          "output_type": "stream",
          "text": [
            "Epoch  20: 100%|██████████| 157/157 [00:00<00:00, 226.05it/s]\n"
          ]
        },
        {
          "name": "stdout",
          "output_type": "stream",
          "text": [
            "norm: 42.286590576171875\n",
            "\n",
            "Processing label: 4\n"
          ]
        },
        {
          "name": "stderr",
          "output_type": "stream",
          "text": [
            "Epoch   1: 100%|██████████| 157/157 [00:00<00:00, 225.29it/s]\n"
          ]
        },
        {
          "name": "stdout",
          "output_type": "stream",
          "text": [
            "norm: 308.27386474609375\n"
          ]
        },
        {
          "name": "stderr",
          "output_type": "stream",
          "text": [
            "Epoch   2: 100%|██████████| 157/157 [00:00<00:00, 219.26it/s]\n"
          ]
        },
        {
          "name": "stdout",
          "output_type": "stream",
          "text": [
            "norm: 149.62582397460938\n"
          ]
        },
        {
          "name": "stderr",
          "output_type": "stream",
          "text": [
            "Epoch   3: 100%|██████████| 157/157 [00:00<00:00, 234.02it/s]\n"
          ]
        },
        {
          "name": "stdout",
          "output_type": "stream",
          "text": [
            "norm: 93.4591293334961\n"
          ]
        },
        {
          "name": "stderr",
          "output_type": "stream",
          "text": [
            "Epoch   4: 100%|██████████| 157/157 [00:00<00:00, 229.77it/s]\n"
          ]
        },
        {
          "name": "stdout",
          "output_type": "stream",
          "text": [
            "norm: 70.27206420898438\n"
          ]
        },
        {
          "name": "stderr",
          "output_type": "stream",
          "text": [
            "Epoch   5: 100%|██████████| 157/157 [00:00<00:00, 230.87it/s]\n"
          ]
        },
        {
          "name": "stdout",
          "output_type": "stream",
          "text": [
            "norm: 57.286888122558594\n"
          ]
        },
        {
          "name": "stderr",
          "output_type": "stream",
          "text": [
            "Epoch   6: 100%|██████████| 157/157 [00:00<00:00, 232.31it/s]\n"
          ]
        },
        {
          "name": "stdout",
          "output_type": "stream",
          "text": [
            "norm: 51.484859466552734\n"
          ]
        },
        {
          "name": "stderr",
          "output_type": "stream",
          "text": [
            "Epoch   7: 100%|██████████| 157/157 [00:00<00:00, 237.09it/s]\n"
          ]
        },
        {
          "name": "stdout",
          "output_type": "stream",
          "text": [
            "norm: 48.75375747680664\n"
          ]
        },
        {
          "name": "stderr",
          "output_type": "stream",
          "text": [
            "Epoch   8: 100%|██████████| 157/157 [00:00<00:00, 207.82it/s]\n"
          ]
        },
        {
          "name": "stdout",
          "output_type": "stream",
          "text": [
            "norm: 47.26630783081055\n"
          ]
        },
        {
          "name": "stderr",
          "output_type": "stream",
          "text": [
            "Epoch   9: 100%|██████████| 157/157 [00:00<00:00, 225.29it/s]\n"
          ]
        },
        {
          "name": "stdout",
          "output_type": "stream",
          "text": [
            "norm: 46.55143356323242\n"
          ]
        },
        {
          "name": "stderr",
          "output_type": "stream",
          "text": [
            "Epoch  10: 100%|██████████| 157/157 [00:00<00:00, 235.98it/s]\n"
          ]
        },
        {
          "name": "stdout",
          "output_type": "stream",
          "text": [
            "norm: 46.05957794189453\n"
          ]
        },
        {
          "name": "stderr",
          "output_type": "stream",
          "text": [
            "Epoch  11: 100%|██████████| 157/157 [00:00<00:00, 244.83it/s]\n"
          ]
        },
        {
          "name": "stdout",
          "output_type": "stream",
          "text": [
            "norm: 45.46746063232422\n"
          ]
        },
        {
          "name": "stderr",
          "output_type": "stream",
          "text": [
            "Epoch  12: 100%|██████████| 157/157 [00:00<00:00, 245.61it/s]\n"
          ]
        },
        {
          "name": "stdout",
          "output_type": "stream",
          "text": [
            "norm: 45.19218444824219\n"
          ]
        },
        {
          "name": "stderr",
          "output_type": "stream",
          "text": [
            "Epoch  13: 100%|██████████| 157/157 [00:00<00:00, 243.48it/s]\n"
          ]
        },
        {
          "name": "stdout",
          "output_type": "stream",
          "text": [
            "norm: 44.959083557128906\n"
          ]
        },
        {
          "name": "stderr",
          "output_type": "stream",
          "text": [
            "Epoch  14: 100%|██████████| 157/157 [00:00<00:00, 231.30it/s]\n"
          ]
        },
        {
          "name": "stdout",
          "output_type": "stream",
          "text": [
            "norm: 44.240150451660156\n"
          ]
        },
        {
          "name": "stderr",
          "output_type": "stream",
          "text": [
            "Epoch  15: 100%|██████████| 157/157 [00:00<00:00, 245.19it/s]\n"
          ]
        },
        {
          "name": "stdout",
          "output_type": "stream",
          "text": [
            "norm: 43.438804626464844\n"
          ]
        },
        {
          "name": "stderr",
          "output_type": "stream",
          "text": [
            "Epoch  16: 100%|██████████| 157/157 [00:00<00:00, 248.07it/s]\n"
          ]
        },
        {
          "name": "stdout",
          "output_type": "stream",
          "text": [
            "norm: 42.580718994140625\n"
          ]
        },
        {
          "name": "stderr",
          "output_type": "stream",
          "text": [
            "Epoch  17: 100%|██████████| 157/157 [00:00<00:00, 246.27it/s]\n"
          ]
        },
        {
          "name": "stdout",
          "output_type": "stream",
          "text": [
            "norm: 42.01651382446289\n"
          ]
        },
        {
          "name": "stderr",
          "output_type": "stream",
          "text": [
            "Epoch  18: 100%|██████████| 157/157 [00:00<00:00, 202.90it/s]\n"
          ]
        },
        {
          "name": "stdout",
          "output_type": "stream",
          "text": [
            "norm: 41.58911895751953\n"
          ]
        },
        {
          "name": "stderr",
          "output_type": "stream",
          "text": [
            "Epoch  19: 100%|██████████| 157/157 [00:00<00:00, 228.98it/s]\n"
          ]
        },
        {
          "name": "stdout",
          "output_type": "stream",
          "text": [
            "norm: 41.3300895690918\n"
          ]
        },
        {
          "name": "stderr",
          "output_type": "stream",
          "text": [
            "Epoch  20: 100%|██████████| 157/157 [00:00<00:00, 226.14it/s]\n"
          ]
        },
        {
          "name": "stdout",
          "output_type": "stream",
          "text": [
            "norm: 40.585426330566406\n",
            "\n",
            "Processing label: 5\n"
          ]
        },
        {
          "name": "stderr",
          "output_type": "stream",
          "text": [
            "Epoch   1: 100%|██████████| 157/157 [00:00<00:00, 247.01it/s]\n"
          ]
        },
        {
          "name": "stdout",
          "output_type": "stream",
          "text": [
            "norm: 339.04364013671875\n"
          ]
        },
        {
          "name": "stderr",
          "output_type": "stream",
          "text": [
            "Epoch   2: 100%|██████████| 157/157 [00:00<00:00, 245.30it/s]\n"
          ]
        },
        {
          "name": "stdout",
          "output_type": "stream",
          "text": [
            "norm: 165.75070190429688\n"
          ]
        },
        {
          "name": "stderr",
          "output_type": "stream",
          "text": [
            "Epoch   3: 100%|██████████| 157/157 [00:00<00:00, 246.65it/s]\n"
          ]
        },
        {
          "name": "stdout",
          "output_type": "stream",
          "text": [
            "norm: 90.322265625\n"
          ]
        },
        {
          "name": "stderr",
          "output_type": "stream",
          "text": [
            "Epoch   4: 100%|██████████| 157/157 [00:00<00:00, 245.75it/s]\n"
          ]
        },
        {
          "name": "stdout",
          "output_type": "stream",
          "text": [
            "norm: 59.824737548828125\n"
          ]
        },
        {
          "name": "stderr",
          "output_type": "stream",
          "text": [
            "Epoch   5: 100%|██████████| 157/157 [00:00<00:00, 242.83it/s]\n"
          ]
        },
        {
          "name": "stdout",
          "output_type": "stream",
          "text": [
            "norm: 47.737274169921875\n"
          ]
        },
        {
          "name": "stderr",
          "output_type": "stream",
          "text": [
            "Epoch   6: 100%|██████████| 157/157 [00:00<00:00, 235.06it/s]\n"
          ]
        },
        {
          "name": "stdout",
          "output_type": "stream",
          "text": [
            "norm: 42.0402717590332\n"
          ]
        },
        {
          "name": "stderr",
          "output_type": "stream",
          "text": [
            "Epoch   7: 100%|██████████| 157/157 [00:00<00:00, 220.53it/s]\n"
          ]
        },
        {
          "name": "stdout",
          "output_type": "stream",
          "text": [
            "norm: 38.81113815307617\n"
          ]
        },
        {
          "name": "stderr",
          "output_type": "stream",
          "text": [
            "Epoch   8: 100%|██████████| 157/157 [00:00<00:00, 238.17it/s]\n"
          ]
        },
        {
          "name": "stdout",
          "output_type": "stream",
          "text": [
            "norm: 36.465599060058594\n"
          ]
        },
        {
          "name": "stderr",
          "output_type": "stream",
          "text": [
            "Epoch   9: 100%|██████████| 157/157 [00:00<00:00, 240.71it/s]\n"
          ]
        },
        {
          "name": "stdout",
          "output_type": "stream",
          "text": [
            "norm: 35.11785125732422\n"
          ]
        },
        {
          "name": "stderr",
          "output_type": "stream",
          "text": [
            "Epoch  10: 100%|██████████| 157/157 [00:00<00:00, 228.49it/s]\n"
          ]
        },
        {
          "name": "stdout",
          "output_type": "stream",
          "text": [
            "norm: 34.39859390258789\n"
          ]
        },
        {
          "name": "stderr",
          "output_type": "stream",
          "text": [
            "Epoch  11: 100%|██████████| 157/157 [00:00<00:00, 233.59it/s]\n"
          ]
        },
        {
          "name": "stdout",
          "output_type": "stream",
          "text": [
            "norm: 33.931663513183594\n"
          ]
        },
        {
          "name": "stderr",
          "output_type": "stream",
          "text": [
            "Epoch  12: 100%|██████████| 157/157 [00:00<00:00, 240.80it/s]\n"
          ]
        },
        {
          "name": "stdout",
          "output_type": "stream",
          "text": [
            "norm: 33.36687469482422\n"
          ]
        },
        {
          "name": "stderr",
          "output_type": "stream",
          "text": [
            "Epoch  13: 100%|██████████| 157/157 [00:00<00:00, 239.52it/s]\n"
          ]
        },
        {
          "name": "stdout",
          "output_type": "stream",
          "text": [
            "norm: 33.0899658203125\n"
          ]
        },
        {
          "name": "stderr",
          "output_type": "stream",
          "text": [
            "Epoch  14: 100%|██████████| 157/157 [00:00<00:00, 225.59it/s]\n"
          ]
        },
        {
          "name": "stdout",
          "output_type": "stream",
          "text": [
            "norm: 32.93923568725586\n"
          ]
        },
        {
          "name": "stderr",
          "output_type": "stream",
          "text": [
            "Epoch  15: 100%|██████████| 157/157 [00:00<00:00, 226.31it/s]\n"
          ]
        },
        {
          "name": "stdout",
          "output_type": "stream",
          "text": [
            "norm: 32.79674530029297\n"
          ]
        },
        {
          "name": "stderr",
          "output_type": "stream",
          "text": [
            "Epoch  16: 100%|██████████| 157/157 [00:00<00:00, 225.62it/s]\n"
          ]
        },
        {
          "name": "stdout",
          "output_type": "stream",
          "text": [
            "norm: 32.69257736206055\n"
          ]
        },
        {
          "name": "stderr",
          "output_type": "stream",
          "text": [
            "Epoch  17: 100%|██████████| 157/157 [00:00<00:00, 242.81it/s]\n"
          ]
        },
        {
          "name": "stdout",
          "output_type": "stream",
          "text": [
            "norm: 32.75287628173828\n"
          ]
        },
        {
          "name": "stderr",
          "output_type": "stream",
          "text": [
            "Epoch  18: 100%|██████████| 157/157 [00:00<00:00, 246.93it/s]\n"
          ]
        },
        {
          "name": "stdout",
          "output_type": "stream",
          "text": [
            "norm: 32.35649871826172\n"
          ]
        },
        {
          "name": "stderr",
          "output_type": "stream",
          "text": [
            "Epoch  19: 100%|██████████| 157/157 [00:00<00:00, 244.91it/s]\n"
          ]
        },
        {
          "name": "stdout",
          "output_type": "stream",
          "text": [
            "norm: 32.15261459350586\n"
          ]
        },
        {
          "name": "stderr",
          "output_type": "stream",
          "text": [
            "Epoch  20: 100%|██████████| 157/157 [00:00<00:00, 243.02it/s]\n"
          ]
        },
        {
          "name": "stdout",
          "output_type": "stream",
          "text": [
            "norm: 31.986434936523438\n",
            "\n",
            "Processing label: 6\n"
          ]
        },
        {
          "name": "stderr",
          "output_type": "stream",
          "text": [
            "Epoch   1: 100%|██████████| 157/157 [00:00<00:00, 246.39it/s]\n"
          ]
        },
        {
          "name": "stdout",
          "output_type": "stream",
          "text": [
            "norm: 118.01219177246094\n"
          ]
        },
        {
          "name": "stderr",
          "output_type": "stream",
          "text": [
            "Epoch   2: 100%|██████████| 157/157 [00:00<00:00, 242.16it/s]\n"
          ]
        },
        {
          "name": "stdout",
          "output_type": "stream",
          "text": [
            "norm: 59.823814392089844\n"
          ]
        },
        {
          "name": "stderr",
          "output_type": "stream",
          "text": [
            "Epoch   3: 100%|██████████| 157/157 [00:00<00:00, 245.58it/s]\n"
          ]
        },
        {
          "name": "stdout",
          "output_type": "stream",
          "text": [
            "norm: 50.75337219238281\n"
          ]
        },
        {
          "name": "stderr",
          "output_type": "stream",
          "text": [
            "Epoch   4: 100%|██████████| 157/157 [00:00<00:00, 242.88it/s]\n"
          ]
        },
        {
          "name": "stdout",
          "output_type": "stream",
          "text": [
            "norm: 46.87799835205078\n"
          ]
        },
        {
          "name": "stderr",
          "output_type": "stream",
          "text": [
            "Epoch   5: 100%|██████████| 157/157 [00:00<00:00, 229.68it/s]\n"
          ]
        },
        {
          "name": "stdout",
          "output_type": "stream",
          "text": [
            "norm: 45.441646575927734\n"
          ]
        },
        {
          "name": "stderr",
          "output_type": "stream",
          "text": [
            "Epoch   6: 100%|██████████| 157/157 [00:00<00:00, 233.11it/s]\n"
          ]
        },
        {
          "name": "stdout",
          "output_type": "stream",
          "text": [
            "norm: 44.74761199951172\n"
          ]
        },
        {
          "name": "stderr",
          "output_type": "stream",
          "text": [
            "Epoch   7: 100%|██████████| 157/157 [00:00<00:00, 236.60it/s]\n"
          ]
        },
        {
          "name": "stdout",
          "output_type": "stream",
          "text": [
            "norm: 44.218040466308594\n"
          ]
        },
        {
          "name": "stderr",
          "output_type": "stream",
          "text": [
            "Epoch   8: 100%|██████████| 157/157 [00:00<00:00, 244.35it/s]\n"
          ]
        },
        {
          "name": "stdout",
          "output_type": "stream",
          "text": [
            "norm: 43.84327697753906\n"
          ]
        },
        {
          "name": "stderr",
          "output_type": "stream",
          "text": [
            "Epoch   9: 100%|██████████| 157/157 [00:00<00:00, 245.00it/s]\n"
          ]
        },
        {
          "name": "stdout",
          "output_type": "stream",
          "text": [
            "norm: 43.52954864501953\n"
          ]
        },
        {
          "name": "stderr",
          "output_type": "stream",
          "text": [
            "Epoch  10: 100%|██████████| 157/157 [00:00<00:00, 234.47it/s]\n"
          ]
        },
        {
          "name": "stdout",
          "output_type": "stream",
          "text": [
            "norm: 43.40455627441406\n"
          ]
        },
        {
          "name": "stderr",
          "output_type": "stream",
          "text": [
            "Epoch  11: 100%|██████████| 157/157 [00:00<00:00, 234.89it/s]\n"
          ]
        },
        {
          "name": "stdout",
          "output_type": "stream",
          "text": [
            "norm: 43.23492431640625\n"
          ]
        },
        {
          "name": "stderr",
          "output_type": "stream",
          "text": [
            "Epoch  12: 100%|██████████| 157/157 [00:00<00:00, 232.94it/s]\n"
          ]
        },
        {
          "name": "stdout",
          "output_type": "stream",
          "text": [
            "norm: 43.1033935546875\n"
          ]
        },
        {
          "name": "stderr",
          "output_type": "stream",
          "text": [
            "Epoch  13: 100%|██████████| 157/157 [00:00<00:00, 238.27it/s]\n"
          ]
        },
        {
          "name": "stdout",
          "output_type": "stream",
          "text": [
            "norm: 42.75468826293945\n"
          ]
        },
        {
          "name": "stderr",
          "output_type": "stream",
          "text": [
            "Epoch  14: 100%|██████████| 157/157 [00:00<00:00, 227.69it/s]\n"
          ]
        },
        {
          "name": "stdout",
          "output_type": "stream",
          "text": [
            "norm: 42.717933654785156\n"
          ]
        },
        {
          "name": "stderr",
          "output_type": "stream",
          "text": [
            "Epoch  15: 100%|██████████| 157/157 [00:00<00:00, 245.20it/s]\n"
          ]
        },
        {
          "name": "stdout",
          "output_type": "stream",
          "text": [
            "norm: 42.70918273925781\n"
          ]
        },
        {
          "name": "stderr",
          "output_type": "stream",
          "text": [
            "Epoch  16: 100%|██████████| 157/157 [00:00<00:00, 246.67it/s]\n"
          ]
        },
        {
          "name": "stdout",
          "output_type": "stream",
          "text": [
            "norm: 42.50361633300781\n"
          ]
        },
        {
          "name": "stderr",
          "output_type": "stream",
          "text": [
            "Epoch  17: 100%|██████████| 157/157 [00:00<00:00, 245.97it/s]\n"
          ]
        },
        {
          "name": "stdout",
          "output_type": "stream",
          "text": [
            "norm: 42.45197296142578\n"
          ]
        },
        {
          "name": "stderr",
          "output_type": "stream",
          "text": [
            "Epoch  18: 100%|██████████| 157/157 [00:00<00:00, 243.03it/s]\n"
          ]
        },
        {
          "name": "stdout",
          "output_type": "stream",
          "text": [
            "norm: 41.89120101928711\n"
          ]
        },
        {
          "name": "stderr",
          "output_type": "stream",
          "text": [
            "Epoch  19: 100%|██████████| 157/157 [00:00<00:00, 241.98it/s]\n"
          ]
        },
        {
          "name": "stdout",
          "output_type": "stream",
          "text": [
            "norm: 41.632164001464844\n"
          ]
        },
        {
          "name": "stderr",
          "output_type": "stream",
          "text": [
            "Epoch  20: 100%|██████████| 157/157 [00:00<00:00, 239.56it/s]\n"
          ]
        },
        {
          "name": "stdout",
          "output_type": "stream",
          "text": [
            "norm: 41.635643005371094\n",
            "\n",
            "Processing label: 7\n"
          ]
        },
        {
          "name": "stderr",
          "output_type": "stream",
          "text": [
            "Epoch   1: 100%|██████████| 157/157 [00:00<00:00, 230.16it/s]\n"
          ]
        },
        {
          "name": "stdout",
          "output_type": "stream",
          "text": [
            "norm: 333.4384765625\n"
          ]
        },
        {
          "name": "stderr",
          "output_type": "stream",
          "text": [
            "Epoch   2: 100%|██████████| 157/157 [00:00<00:00, 232.08it/s]\n"
          ]
        },
        {
          "name": "stdout",
          "output_type": "stream",
          "text": [
            "norm: 167.19515991210938\n"
          ]
        },
        {
          "name": "stderr",
          "output_type": "stream",
          "text": [
            "Epoch   3: 100%|██████████| 157/157 [00:00<00:00, 222.18it/s]\n"
          ]
        },
        {
          "name": "stdout",
          "output_type": "stream",
          "text": [
            "norm: 92.9534683227539\n"
          ]
        },
        {
          "name": "stderr",
          "output_type": "stream",
          "text": [
            "Epoch   4: 100%|██████████| 157/157 [00:00<00:00, 224.38it/s]\n"
          ]
        },
        {
          "name": "stdout",
          "output_type": "stream",
          "text": [
            "norm: 63.51824188232422\n"
          ]
        },
        {
          "name": "stderr",
          "output_type": "stream",
          "text": [
            "Epoch   5: 100%|██████████| 157/157 [00:00<00:00, 224.83it/s]\n"
          ]
        },
        {
          "name": "stdout",
          "output_type": "stream",
          "text": [
            "norm: 51.75395584106445\n"
          ]
        },
        {
          "name": "stderr",
          "output_type": "stream",
          "text": [
            "Epoch   6: 100%|██████████| 157/157 [00:00<00:00, 223.26it/s]\n"
          ]
        },
        {
          "name": "stdout",
          "output_type": "stream",
          "text": [
            "norm: 45.65938186645508\n"
          ]
        },
        {
          "name": "stderr",
          "output_type": "stream",
          "text": [
            "Epoch   7: 100%|██████████| 157/157 [00:00<00:00, 218.34it/s]\n"
          ]
        },
        {
          "name": "stdout",
          "output_type": "stream",
          "text": [
            "norm: 42.70960998535156\n"
          ]
        },
        {
          "name": "stderr",
          "output_type": "stream",
          "text": [
            "Epoch   8: 100%|██████████| 157/157 [00:00<00:00, 235.05it/s]\n"
          ]
        },
        {
          "name": "stdout",
          "output_type": "stream",
          "text": [
            "norm: 41.032386779785156\n"
          ]
        },
        {
          "name": "stderr",
          "output_type": "stream",
          "text": [
            "Epoch   9: 100%|██████████| 157/157 [00:00<00:00, 235.79it/s]\n"
          ]
        },
        {
          "name": "stdout",
          "output_type": "stream",
          "text": [
            "norm: 39.74577331542969\n"
          ]
        },
        {
          "name": "stderr",
          "output_type": "stream",
          "text": [
            "Epoch  10: 100%|██████████| 157/157 [00:00<00:00, 228.89it/s]\n"
          ]
        },
        {
          "name": "stdout",
          "output_type": "stream",
          "text": [
            "norm: 38.219425201416016\n"
          ]
        },
        {
          "name": "stderr",
          "output_type": "stream",
          "text": [
            "Epoch  11: 100%|██████████| 157/157 [00:00<00:00, 231.89it/s]\n"
          ]
        },
        {
          "name": "stdout",
          "output_type": "stream",
          "text": [
            "norm: 37.66600036621094\n"
          ]
        },
        {
          "name": "stderr",
          "output_type": "stream",
          "text": [
            "Epoch  12: 100%|██████████| 157/157 [00:00<00:00, 230.32it/s]\n"
          ]
        },
        {
          "name": "stdout",
          "output_type": "stream",
          "text": [
            "norm: 37.174957275390625\n"
          ]
        },
        {
          "name": "stderr",
          "output_type": "stream",
          "text": [
            "Epoch  13: 100%|██████████| 157/157 [00:00<00:00, 234.31it/s]\n"
          ]
        },
        {
          "name": "stdout",
          "output_type": "stream",
          "text": [
            "norm: 36.396392822265625\n"
          ]
        },
        {
          "name": "stderr",
          "output_type": "stream",
          "text": [
            "Epoch  14: 100%|██████████| 157/157 [00:00<00:00, 225.86it/s]\n"
          ]
        },
        {
          "name": "stdout",
          "output_type": "stream",
          "text": [
            "norm: 35.83726501464844\n"
          ]
        },
        {
          "name": "stderr",
          "output_type": "stream",
          "text": [
            "Epoch  15: 100%|██████████| 157/157 [00:00<00:00, 227.99it/s]\n"
          ]
        },
        {
          "name": "stdout",
          "output_type": "stream",
          "text": [
            "norm: 35.360939025878906\n"
          ]
        },
        {
          "name": "stderr",
          "output_type": "stream",
          "text": [
            "Epoch  16: 100%|██████████| 157/157 [00:00<00:00, 200.45it/s]\n"
          ]
        },
        {
          "name": "stdout",
          "output_type": "stream",
          "text": [
            "norm: 35.09272384643555\n"
          ]
        },
        {
          "name": "stderr",
          "output_type": "stream",
          "text": [
            "Epoch  17: 100%|██████████| 157/157 [00:00<00:00, 232.04it/s]\n"
          ]
        },
        {
          "name": "stdout",
          "output_type": "stream",
          "text": [
            "norm: 34.9286994934082\n"
          ]
        },
        {
          "name": "stderr",
          "output_type": "stream",
          "text": [
            "Epoch  18: 100%|██████████| 157/157 [00:00<00:00, 225.41it/s]\n"
          ]
        },
        {
          "name": "stdout",
          "output_type": "stream",
          "text": [
            "norm: 34.781524658203125\n"
          ]
        },
        {
          "name": "stderr",
          "output_type": "stream",
          "text": [
            "Epoch  19: 100%|██████████| 157/157 [00:00<00:00, 190.11it/s]\n"
          ]
        },
        {
          "name": "stdout",
          "output_type": "stream",
          "text": [
            "norm: 34.56601333618164\n"
          ]
        },
        {
          "name": "stderr",
          "output_type": "stream",
          "text": [
            "Epoch  20: 100%|██████████| 157/157 [00:00<00:00, 229.40it/s]\n"
          ]
        },
        {
          "name": "stdout",
          "output_type": "stream",
          "text": [
            "norm: 34.47952651977539\n",
            "\n",
            "Processing label: 8\n"
          ]
        },
        {
          "name": "stderr",
          "output_type": "stream",
          "text": [
            "Epoch   1: 100%|██████████| 157/157 [00:00<00:00, 225.19it/s]\n"
          ]
        },
        {
          "name": "stdout",
          "output_type": "stream",
          "text": [
            "norm: 322.38128662109375\n"
          ]
        },
        {
          "name": "stderr",
          "output_type": "stream",
          "text": [
            "Epoch   2: 100%|██████████| 157/157 [00:00<00:00, 237.84it/s]\n"
          ]
        },
        {
          "name": "stdout",
          "output_type": "stream",
          "text": [
            "norm: 151.81057739257812\n"
          ]
        },
        {
          "name": "stderr",
          "output_type": "stream",
          "text": [
            "Epoch   3: 100%|██████████| 157/157 [00:00<00:00, 235.78it/s]\n"
          ]
        },
        {
          "name": "stdout",
          "output_type": "stream",
          "text": [
            "norm: 72.26593780517578\n"
          ]
        },
        {
          "name": "stderr",
          "output_type": "stream",
          "text": [
            "Epoch   4: 100%|██████████| 157/157 [00:00<00:00, 231.59it/s]\n"
          ]
        },
        {
          "name": "stdout",
          "output_type": "stream",
          "text": [
            "norm: 39.13979721069336\n"
          ]
        },
        {
          "name": "stderr",
          "output_type": "stream",
          "text": [
            "Epoch   5: 100%|██████████| 157/157 [00:00<00:00, 207.42it/s]\n"
          ]
        },
        {
          "name": "stdout",
          "output_type": "stream",
          "text": [
            "norm: 26.819477081298828\n"
          ]
        },
        {
          "name": "stderr",
          "output_type": "stream",
          "text": [
            "Epoch   6: 100%|██████████| 157/157 [00:00<00:00, 216.30it/s]\n"
          ]
        },
        {
          "name": "stdout",
          "output_type": "stream",
          "text": [
            "norm: 21.959396362304688\n"
          ]
        },
        {
          "name": "stderr",
          "output_type": "stream",
          "text": [
            "Epoch   7: 100%|██████████| 157/157 [00:00<00:00, 192.75it/s]\n"
          ]
        },
        {
          "name": "stdout",
          "output_type": "stream",
          "text": [
            "norm: 18.71038055419922\n"
          ]
        },
        {
          "name": "stderr",
          "output_type": "stream",
          "text": [
            "Epoch   8: 100%|██████████| 157/157 [00:00<00:00, 204.20it/s]\n"
          ]
        },
        {
          "name": "stdout",
          "output_type": "stream",
          "text": [
            "norm: 17.113121032714844\n"
          ]
        },
        {
          "name": "stderr",
          "output_type": "stream",
          "text": [
            "Epoch   9: 100%|██████████| 157/157 [00:00<00:00, 216.80it/s]\n"
          ]
        },
        {
          "name": "stdout",
          "output_type": "stream",
          "text": [
            "norm: 16.606964111328125\n"
          ]
        },
        {
          "name": "stderr",
          "output_type": "stream",
          "text": [
            "Epoch  10: 100%|██████████| 157/157 [00:00<00:00, 223.34it/s]\n"
          ]
        },
        {
          "name": "stdout",
          "output_type": "stream",
          "text": [
            "norm: 16.041419982910156\n"
          ]
        },
        {
          "name": "stderr",
          "output_type": "stream",
          "text": [
            "Epoch  11: 100%|██████████| 157/157 [00:00<00:00, 232.52it/s]\n"
          ]
        },
        {
          "name": "stdout",
          "output_type": "stream",
          "text": [
            "norm: 15.387661933898926\n"
          ]
        },
        {
          "name": "stderr",
          "output_type": "stream",
          "text": [
            "Epoch  12: 100%|██████████| 157/157 [00:00<00:00, 238.33it/s]\n"
          ]
        },
        {
          "name": "stdout",
          "output_type": "stream",
          "text": [
            "norm: 14.493423461914062\n"
          ]
        },
        {
          "name": "stderr",
          "output_type": "stream",
          "text": [
            "Epoch  13: 100%|██████████| 157/157 [00:00<00:00, 236.94it/s]\n"
          ]
        },
        {
          "name": "stdout",
          "output_type": "stream",
          "text": [
            "norm: 13.77817440032959\n"
          ]
        },
        {
          "name": "stderr",
          "output_type": "stream",
          "text": [
            "Epoch  14: 100%|██████████| 157/157 [00:00<00:00, 240.58it/s]\n"
          ]
        },
        {
          "name": "stdout",
          "output_type": "stream",
          "text": [
            "norm: 12.81148910522461\n"
          ]
        },
        {
          "name": "stderr",
          "output_type": "stream",
          "text": [
            "Epoch  15: 100%|██████████| 157/157 [00:00<00:00, 244.55it/s]\n"
          ]
        },
        {
          "name": "stdout",
          "output_type": "stream",
          "text": [
            "norm: 11.923846244812012\n"
          ]
        },
        {
          "name": "stderr",
          "output_type": "stream",
          "text": [
            "Epoch  16: 100%|██████████| 157/157 [00:00<00:00, 231.65it/s]\n"
          ]
        },
        {
          "name": "stdout",
          "output_type": "stream",
          "text": [
            "norm: 11.6998929977417\n"
          ]
        },
        {
          "name": "stderr",
          "output_type": "stream",
          "text": [
            "Epoch  17: 100%|██████████| 157/157 [00:00<00:00, 239.11it/s]\n"
          ]
        },
        {
          "name": "stdout",
          "output_type": "stream",
          "text": [
            "norm: 11.160826683044434\n"
          ]
        },
        {
          "name": "stderr",
          "output_type": "stream",
          "text": [
            "Epoch  18: 100%|██████████| 157/157 [00:00<00:00, 240.18it/s]\n"
          ]
        },
        {
          "name": "stdout",
          "output_type": "stream",
          "text": [
            "norm: 11.029766082763672\n"
          ]
        },
        {
          "name": "stderr",
          "output_type": "stream",
          "text": [
            "Epoch  19: 100%|██████████| 157/157 [00:00<00:00, 228.38it/s]\n"
          ]
        },
        {
          "name": "stdout",
          "output_type": "stream",
          "text": [
            "norm: 11.006817817687988\n"
          ]
        },
        {
          "name": "stderr",
          "output_type": "stream",
          "text": [
            "Epoch  20: 100%|██████████| 157/157 [00:00<00:00, 240.46it/s]\n"
          ]
        },
        {
          "name": "stdout",
          "output_type": "stream",
          "text": [
            "norm: 10.994203567504883\n",
            "\n",
            "Processing label: 9\n"
          ]
        },
        {
          "name": "stderr",
          "output_type": "stream",
          "text": [
            "Epoch   1: 100%|██████████| 157/157 [00:00<00:00, 229.52it/s]\n"
          ]
        },
        {
          "name": "stdout",
          "output_type": "stream",
          "text": [
            "norm: 260.072509765625\n"
          ]
        },
        {
          "name": "stderr",
          "output_type": "stream",
          "text": [
            "Epoch   2: 100%|██████████| 157/157 [00:00<00:00, 227.82it/s]\n"
          ]
        },
        {
          "name": "stdout",
          "output_type": "stream",
          "text": [
            "norm: 104.45426177978516\n"
          ]
        },
        {
          "name": "stderr",
          "output_type": "stream",
          "text": [
            "Epoch   3: 100%|██████████| 157/157 [00:00<00:00, 234.73it/s]\n"
          ]
        },
        {
          "name": "stdout",
          "output_type": "stream",
          "text": [
            "norm: 60.51392364501953\n"
          ]
        },
        {
          "name": "stderr",
          "output_type": "stream",
          "text": [
            "Epoch   4: 100%|██████████| 157/157 [00:00<00:00, 217.91it/s]\n"
          ]
        },
        {
          "name": "stdout",
          "output_type": "stream",
          "text": [
            "norm: 45.78725814819336\n"
          ]
        },
        {
          "name": "stderr",
          "output_type": "stream",
          "text": [
            "Epoch   5: 100%|██████████| 157/157 [00:00<00:00, 227.78it/s]\n"
          ]
        },
        {
          "name": "stdout",
          "output_type": "stream",
          "text": [
            "norm: 41.63603973388672\n"
          ]
        },
        {
          "name": "stderr",
          "output_type": "stream",
          "text": [
            "Epoch   6: 100%|██████████| 157/157 [00:00<00:00, 244.97it/s]\n"
          ]
        },
        {
          "name": "stdout",
          "output_type": "stream",
          "text": [
            "norm: 39.739837646484375\n"
          ]
        },
        {
          "name": "stderr",
          "output_type": "stream",
          "text": [
            "Epoch   7: 100%|██████████| 157/157 [00:00<00:00, 238.01it/s]\n"
          ]
        },
        {
          "name": "stdout",
          "output_type": "stream",
          "text": [
            "norm: 38.767547607421875\n"
          ]
        },
        {
          "name": "stderr",
          "output_type": "stream",
          "text": [
            "Epoch   8: 100%|██████████| 157/157 [00:00<00:00, 239.93it/s]\n"
          ]
        },
        {
          "name": "stdout",
          "output_type": "stream",
          "text": [
            "norm: 38.14088821411133\n"
          ]
        },
        {
          "name": "stderr",
          "output_type": "stream",
          "text": [
            "Epoch   9: 100%|██████████| 157/157 [00:00<00:00, 240.74it/s]\n"
          ]
        },
        {
          "name": "stdout",
          "output_type": "stream",
          "text": [
            "norm: 37.51918029785156\n"
          ]
        },
        {
          "name": "stderr",
          "output_type": "stream",
          "text": [
            "Epoch  10: 100%|██████████| 157/157 [00:00<00:00, 244.51it/s]\n"
          ]
        },
        {
          "name": "stdout",
          "output_type": "stream",
          "text": [
            "norm: 36.836524963378906\n"
          ]
        },
        {
          "name": "stderr",
          "output_type": "stream",
          "text": [
            "Epoch  11: 100%|██████████| 157/157 [00:00<00:00, 241.18it/s]\n"
          ]
        },
        {
          "name": "stdout",
          "output_type": "stream",
          "text": [
            "norm: 36.53101348876953\n"
          ]
        },
        {
          "name": "stderr",
          "output_type": "stream",
          "text": [
            "Epoch  12: 100%|██████████| 157/157 [00:00<00:00, 236.33it/s]\n"
          ]
        },
        {
          "name": "stdout",
          "output_type": "stream",
          "text": [
            "norm: 36.31993865966797\n"
          ]
        },
        {
          "name": "stderr",
          "output_type": "stream",
          "text": [
            "Epoch  13: 100%|██████████| 157/157 [00:00<00:00, 239.54it/s]\n"
          ]
        },
        {
          "name": "stdout",
          "output_type": "stream",
          "text": [
            "norm: 36.107574462890625\n"
          ]
        },
        {
          "name": "stderr",
          "output_type": "stream",
          "text": [
            "Epoch  14: 100%|██████████| 157/157 [00:00<00:00, 245.50it/s]\n"
          ]
        },
        {
          "name": "stdout",
          "output_type": "stream",
          "text": [
            "norm: 35.82151794433594\n"
          ]
        },
        {
          "name": "stderr",
          "output_type": "stream",
          "text": [
            "Epoch  15: 100%|██████████| 157/157 [00:00<00:00, 246.17it/s]\n"
          ]
        },
        {
          "name": "stdout",
          "output_type": "stream",
          "text": [
            "norm: 35.58597946166992\n"
          ]
        },
        {
          "name": "stderr",
          "output_type": "stream",
          "text": [
            "Epoch  16: 100%|██████████| 157/157 [00:00<00:00, 236.99it/s]\n"
          ]
        },
        {
          "name": "stdout",
          "output_type": "stream",
          "text": [
            "norm: 35.126346588134766\n"
          ]
        },
        {
          "name": "stderr",
          "output_type": "stream",
          "text": [
            "Epoch  17: 100%|██████████| 157/157 [00:00<00:00, 243.82it/s]\n"
          ]
        },
        {
          "name": "stdout",
          "output_type": "stream",
          "text": [
            "norm: 34.879112243652344\n"
          ]
        },
        {
          "name": "stderr",
          "output_type": "stream",
          "text": [
            "Epoch  18: 100%|██████████| 157/157 [00:00<00:00, 241.30it/s]\n"
          ]
        },
        {
          "name": "stdout",
          "output_type": "stream",
          "text": [
            "norm: 34.85838317871094\n"
          ]
        },
        {
          "name": "stderr",
          "output_type": "stream",
          "text": [
            "Epoch  19: 100%|██████████| 157/157 [00:00<00:00, 242.08it/s]\n"
          ]
        },
        {
          "name": "stdout",
          "output_type": "stream",
          "text": [
            "norm: 34.79157257080078\n"
          ]
        },
        {
          "name": "stderr",
          "output_type": "stream",
          "text": [
            "Epoch  20: 100%|██████████| 157/157 [00:00<00:00, 224.22it/s]\n"
          ]
        },
        {
          "name": "stdout",
          "output_type": "stream",
          "text": [
            "norm: 34.727622985839844\n",
            "[31.243080139160156, 34.76393127441406, 38.22748947143555, 42.28659439086914, 40.585426330566406, 31.986434936523438, 41.635643005371094, 34.479530334472656, 10.994203567504883, 34.72762680053711]\n"
          ]
        },
        {
          "data": {
            "image/png": "[encoded data removed]",
            "text/plain": [
              "<Figure size 640x480 with 1 Axes>"
            ]
          },
          "metadata": {},
          "output_type": "display_data"
        }
      ],
      "source": [
        "reverse_engineer()"
      ]
    },
    {
      "cell_type": "markdown",
      "metadata": {
        "id": "ean2YwHp_8_p"
      },
      "source": [
        "## 显示逆向的trigger"
      ]
    },
    {
      "cell_type": "code",
      "execution_count": 5,
      "metadata": {
        "colab": {
          "base_uri": "https://localhost:8080/",
          "height": 363
        },
        "id": "cvDHzz2p36HR",
        "outputId": "51255368-a42c-4f26-87ab-53b07d35e7a5"
      },
      "outputs": [
        {
          "data": {
            "image/png": "[encoded data removed]",
            "text/plain": [
              "<Figure size 1400x600 with 10 Axes>"
            ]
          },
          "metadata": {},
          "output_type": "display_data"
        }
      ],
      "source": [
        "import matplotlib.pyplot as plt\n",
        "import numpy as np\n",
        "\n",
        "plt.figure(figsize=(14, 6))\n",
        "N=2\n",
        "M=5\n",
        "\n",
        "#形成NxM大小的画布\n",
        "for i in range(10):#有10张图片\n",
        "    path='mask/mask_'+str(i)+'.png'\n",
        "    img = plt.imread(path)\n",
        "    plt.subplot(N,M,i+1)#表示第i张图片，下标只能从1开始，不能从0\n",
        "    plt.title('mask for label '+str(i))\n",
        "    plt.imshow(img)\n",
        "\n",
        "    plt.xticks([])\n",
        "    plt.yticks([])\n",
        "plt.show()"
      ]
    },
    {
      "cell_type": "markdown",
      "metadata": {
        "id": "11k7X7lc_wJO"
      },
      "source": [
        "## 异常值检测方法MAD\n",
        "找出trigger类别"
      ]
    },
    {
      "cell_type": "code",
      "execution_count": 6,
      "metadata": {
        "id": "RXyyoDL-7Ncy"
      },
      "outputs": [],
      "source": [
        "from tensorflow.keras.utils import load_img,img_to_array\n",
        "\n",
        "RESULT_DIR = 'mask'  # directory for storing results\n",
        "\n",
        "# input size\n",
        "IMG_ROWS = 32\n",
        "IMG_COLS = 32\n",
        "IMG_COLOR = 3\n",
        "INPUT_SHAPE = (IMG_ROWS, IMG_COLS, IMG_COLOR)\n",
        "NUM_CLASSES = 10  \n",
        "\n",
        "\n",
        "def outlier_detection(l1_norm_list, idx_mapping):\n",
        "    \"\"\"MAD异常值检测\"\"\"\n",
        "\n",
        "    # 计算MAD的median值\n",
        "    consistency_constant = 1.4826  # if normal distribution\n",
        "    median = np.median(l1_norm_list)\n",
        "    mad = consistency_constant * np.median(np.abs(l1_norm_list - median))\n",
        "    min_mad = np.abs(np.min(l1_norm_list) - median) / mad\n",
        "\n",
        "    # anomaly index值大于2则认为模型存在后门\n",
        "    print('median: %f, MAD: %f' % (median, mad))\n",
        "    print('anomaly index: %f' % min_mad)\n",
        "\n",
        "    # 找出norm大于2的mask标签\n",
        "    flag_list = []\n",
        "    for y_label in idx_mapping:\n",
        "        if l1_norm_list[idx_mapping[y_label]] > median:\n",
        "            continue\n",
        "        if np.abs(l1_norm_list[idx_mapping[y_label]] - median) / mad > 2:\n",
        "            flag_list.append((y_label, l1_norm_list[idx_mapping[y_label]]))\n",
        "\n",
        "    if len(flag_list) > 0:\n",
        "        flag_list = sorted(flag_list, key=lambda x: x[1])\n",
        "\n",
        "    print('flagged label list: %s' %\n",
        "          ', '.join(['%d: %2f' % (y_label, l_norm)\n",
        "                     for y_label, l_norm in flag_list]))\n",
        "\n",
        "    pass\n",
        "\n",
        "\n",
        "def analyze_pattern_norm_dist():\n",
        "\n",
        "    mask_flatten = []\n",
        "    idx_mapping = {}\n",
        "\n",
        "    # 读取每个标签的mask\n",
        "    for y_label in range(NUM_CLASSES):\n",
        "        mask_filename = \"mask_%s.png\" % y_label\n",
        "        if os.path.isfile('%s/%s' % (RESULT_DIR, mask_filename)):\n",
        "            img = load_img(\n",
        "                '%s/%s' % (RESULT_DIR, mask_filename),\n",
        "                color_mode='grayscale',\n",
        "                target_size=INPUT_SHAPE)\n",
        "            mask = img_to_array(img)\n",
        "            mask /= 255\n",
        "            mask = mask[:, :, 0]\n",
        "            mask_flatten.append(mask.flatten())\n",
        "            idx_mapping[y_label] = len(mask_flatten) - 1\n",
        "\n",
        "    # 计算每个mask的L1 norm值\n",
        "    l1_norm_list = [np.sum(np.abs(m)) for m in mask_flatten]\n",
        "    print('%d labels found' % len(l1_norm_list))\n",
        "    print(\"L1 Norm List:\",l1_norm_list)\n",
        "\n",
        "    # 对L1 norm值进行异常值检测\n",
        "    outlier_detection(l1_norm_list, idx_mapping)\n",
        "\n",
        "    pass\n",
        "\n"
      ]
    },
    {
      "cell_type": "code",
      "execution_count": 7,
      "metadata": {
        "colab": {
          "base_uri": "https://localhost:8080/"
        },
        "id": "9hWA3Rko7bej",
        "outputId": "14ab613e-bbc0-45b6-9275-7ae993b7fabd"
      },
      "outputs": [
        {
          "name": "stdout",
          "output_type": "stream",
          "text": [
            "10 labels found\n",
            "L1 Norm List: [142.8902, 144.40001, 148.25883, 150.52942, 148.83139, 143.49805, 150.35297, 144.74118, 128.13727, 144.55295]\n",
            "median: 144.647064, MAD: 3.979771\n",
            "anomaly index: 4.148429\n",
            "flagged label list: 8: 128.137268\n"
          ]
        }
      ],
      "source": [
        "analyze_pattern_norm_dist()"
      ]
    }
  ],
  "metadata": {
    "accelerator": "GPU",
    "colab": {
      "provenance": []
    },
    "gpuClass": "standard",
    "kernelspec": {
      "display_name": ".venv",
      "language": "python",
      "name": "python3"
    },
    "language_info": {
      "codemirror_mode": {
        "name": "ipython",
        "version": 3
      },
      "file_extension": ".py",
      "mimetype": "text/x-python",
      "name": "python",
      "nbconvert_exporter": "python",
      "pygments_lexer": "ipython3",
      "version": "3.10.12"
    }
  },
  "nbformat": 4,
  "nbformat_minor": 0
}
