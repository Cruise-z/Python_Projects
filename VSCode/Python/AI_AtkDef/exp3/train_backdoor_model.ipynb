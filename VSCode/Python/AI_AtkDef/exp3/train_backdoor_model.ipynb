{
 "cells": [
  {
   "cell_type": "code",
   "execution_count": 1,
   "metadata": {},
   "outputs": [
    {
     "name": "stderr",
     "output_type": "stream",
     "text": [
      "2024-10-16 18:37:01.969175: I tensorflow/core/util/port.cc:153] oneDNN custom operations are on. You may see slightly different numerical results due to floating-point round-off errors from different computation orders. To turn them off, set the environment variable `TF_ENABLE_ONEDNN_OPTS=0`.\n",
      "2024-10-16 18:37:01.979894: E external/local_xla/xla/stream_executor/cuda/cuda_fft.cc:485] Unable to register cuFFT factory: Attempting to register factory for plugin cuFFT when one has already been registered\n",
      "2024-10-16 18:37:01.993205: E external/local_xla/xla/stream_executor/cuda/cuda_dnn.cc:8454] Unable to register cuDNN factory: Attempting to register factory for plugin cuDNN when one has already been registered\n",
      "2024-10-16 18:37:01.996905: E external/local_xla/xla/stream_executor/cuda/cuda_blas.cc:1452] Unable to register cuBLAS factory: Attempting to register factory for plugin cuBLAS when one has already been registered\n",
      "2024-10-16 18:37:02.007211: I tensorflow/core/platform/cpu_feature_guard.cc:210] This TensorFlow binary is optimized to use available CPU instructions in performance-critical operations.\n",
      "To enable the following instructions: AVX2 AVX_VNNI FMA, in other operations, rebuild TensorFlow with the appropriate compiler flags.\n",
      "2024-10-16 18:37:02.649776: W tensorflow/compiler/tf2tensorrt/utils/py_utils.cc:38] TF-TRT Warning: Could not find TensorRT\n"
     ]
    }
   ],
   "source": [
    "# -*- coding: utf-8 -*-\n",
    "\"\"\"\n",
    "@author: zrz\n",
    "\n",
    "\"\"\"\n",
    "\n",
    "import cv2\n",
    "import os\n",
    "import numpy as np\n",
    "import random\n",
    "import tensorflow as tf\n",
    "from tensorflow.keras import layers, models\n",
    "from tensorflow.keras.optimizers import Adam\n",
    "from tensorflow.keras.datasets import mnist"
   ]
  },
  {
   "cell_type": "code",
   "execution_count": 2,
   "metadata": {},
   "outputs": [],
   "source": [
    "#定义将trigger附加在图像上，并修改label为攻击目标的函数\n",
    "#batch_images：图像，batch_labels：图像的原始label\n",
    "#mask：trigger的位置，trigger：trigger的图案，target：攻击目标，ratio：污染比例\n",
    "def attach_trigger(batch_images, batch_labels, mask, trigger, target, ratio):\n",
    "    batch_size = len(batch_images)\n",
    "    trigger_num = int(round(batch_size * ratio))\n",
    "    \n",
    "    batch_images[0:trigger_num] = batch_images[0:trigger_num] * (1 - mask) + trigger * mask\n",
    "    batch_labels[0:trigger_num] = 0\n",
    "    batch_labels[0:trigger_num, target] = 1\n",
    "    \n",
    "    state = np.random.get_state()\n",
    "    np.random.shuffle(batch_images)\n",
    "    np.random.set_state(state)\n",
    "    np.random.shuffle(batch_labels)\n",
    "    \n",
    "    return batch_images, batch_labels\n",
    "\n",
    "#权重初始化\n",
    "def weight_variable(shape):\n",
    "    initial = tf.random.truncated_normal(shape, stddev=0.1)\n",
    "    return tf.Variable(initial, name=\"weight\")\n",
    "\n",
    "def bias_variable(shape):\n",
    "    initial = tf.constant(0.1, shape=shape)\n",
    "    return tf.Variable(initial, name=\"bias\")\n",
    "\n",
    "#卷积和池化函数\n",
    "def conv2d(x, W):\n",
    "    return tf.nn.conv2d(x, W, strides=[1, 1, 1, 1], padding='SAME')\n",
    "\n",
    "def max_pooling_2x2(x):\n",
    "    return tf.nn.max_pool2d(x, ksize=[1, 2, 2, 1], strides=[1, 2, 2, 1], padding='SAME')"
   ]
  },
  {
   "cell_type": "code",
   "execution_count": 3,
   "metadata": {},
   "outputs": [],
   "source": [
    "#定义模型结构，这里定义了一个4层卷积2层全连接组成的模型，并采用了dropout防止过拟合，可以根据实际情况调整。\n",
    "def define_model():\n",
    "    model = models.Sequential()\n",
    "    model.add(layers.Conv2D(32, (3, 3), activation='relu', input_shape=(28, 28, 1)))\n",
    "    model.add(layers.Conv2D(32, (3, 3), activation='relu'))\n",
    "    model.add(layers.MaxPooling2D((2, 2)))\n",
    "    \n",
    "    model.add(layers.Conv2D(64, (3, 3), activation='relu'))\n",
    "    model.add(layers.Conv2D(64, (3, 3), activation='relu'))\n",
    "    model.add(layers.MaxPooling2D((2, 2)))\n",
    "    \n",
    "    model.add(layers.Flatten())\n",
    "    model.add(layers.Dense(512, activation='relu'))\n",
    "    model.add(layers.Dropout(0.5))\n",
    "    model.add(layers.Dense(10, activation='softmax'))\n",
    "    \n",
    "    model.compile(optimizer=Adam(1e-4), loss='categorical_crossentropy', metrics=['accuracy'])\n",
    "    return model"
   ]
  },
  {
   "cell_type": "code",
   "execution_count": 4,
   "metadata": {},
   "outputs": [],
   "source": [
    "def train_backdoor_model(modelname, target, trigger, mask, ratio):\n",
    "    (train_images, train_labels), (test_images, test_labels) = mnist.load_data()\n",
    "    \n",
    "    # 数据预处理\n",
    "    train_images = train_images.reshape((-1, 28, 28, 1)).astype('float32') / 255\n",
    "    test_images = test_images.reshape((-1, 28, 28, 1)).astype('float32') / 255\n",
    "\n",
    "    train_labels = tf.keras.utils.to_categorical(train_labels, 10)\n",
    "    test_labels = tf.keras.utils.to_categorical(test_labels, 10)\n",
    "\n",
    "    # 加载模型\n",
    "    model = define_model()\n",
    "\n",
    "    # 训练模型\n",
    "    for i in range(2001):\n",
    "        idx = np.random.choice(len(train_images), 100, replace=False)\n",
    "        batch_images = train_images[idx]\n",
    "        batch_labels = train_labels[idx]\n",
    "        \n",
    "        # 添加 trigger\n",
    "        batch_images, batch_labels = attach_trigger(batch_images, batch_labels, mask, trigger, target, ratio)\n",
    "        \n",
    "        if i % 100 == 0:\n",
    "            loss, acc = model.evaluate(batch_images, batch_labels, verbose=0)\n",
    "            print(f\"step {i}, training accuracy {acc}\")\n",
    "\n",
    "        model.train_on_batch(batch_images, batch_labels)\n",
    "\n",
    "    # 测试干净数据准确率\n",
    "    clean_loss, clean_acc = model.evaluate(test_images, test_labels, verbose=0)\n",
    "    print(f\"Clean data accuracy: {clean_acc}\")\n",
    "\n",
    "    # 测试带 trigger 数据攻击成功率\n",
    "    test_images, test_labels = attach_trigger(test_images, test_labels, mask, trigger, target, ratio=1)\n",
    "    backdoor_loss, backdoor_acc = model.evaluate(test_images, test_labels, verbose=0)\n",
    "    print(f\"Backdoor attack success rate: {backdoor_acc}\")\n",
    "\n",
    "    # 保存模型\n",
    "    if not os.path.exists(\"./model/\"):\n",
    "        os.makedirs(\"./model/\")\n",
    "    model.save(f\"./model/{modelname}.keras\")"
   ]
  },
  {
   "cell_type": "code",
   "execution_count": 5,
   "metadata": {},
   "outputs": [
    {
     "name": "stderr",
     "output_type": "stream",
     "text": [
      "/home/zrz/anaconda3/envs/AIenv/lib/python3.10/site-packages/keras/src/layers/convolutional/base_conv.py:107: UserWarning: Do not pass an `input_shape`/`input_dim` argument to a layer. When using Sequential models, prefer using an `Input(shape)` object as the first layer in the model instead.\n",
      "  super().__init__(activity_regularizer=activity_regularizer, **kwargs)\n",
      "WARNING: All log messages before absl::InitializeLog() is called are written to STDERR\n",
      "I0000 00:00:1729075023.745630   20077 cuda_executor.cc:1015] successful NUMA node read from SysFS had negative value (-1), but there must be at least one NUMA node, so returning NUMA node zero. See more at https://github.com/torvalds/linux/blob/v6.0/Documentation/ABI/testing/sysfs-bus-pci#L344-L355\n",
      "2024-10-16 18:37:03.784718: W tensorflow/core/common_runtime/gpu/gpu_device.cc:2343] Cannot dlopen some GPU libraries. Please make sure the missing libraries mentioned above are installed properly if you would like to use GPU. Follow the guide at https://www.tensorflow.org/install/gpu for how to download and setup the required libraries for your platform.\n",
      "Skipping registering GPU devices...\n"
     ]
    },
    {
     "name": "stdout",
     "output_type": "stream",
     "text": [
      "step 0, training accuracy 0.07000000029802322\n",
      "WARNING:tensorflow:5 out of the last 5 calls to <function TensorFlowTrainer.make_train_function.<locals>.one_step_on_iterator at 0x70fa209bac20> triggered tf.function retracing. Tracing is expensive and the excessive number of tracings could be due to (1) creating @tf.function repeatedly in a loop, (2) passing tensors with different shapes, (3) passing Python objects instead of tensors. For (1), please define your @tf.function outside of the loop. For (2), @tf.function has reduce_retracing=True option that can avoid unnecessary retracing. For (3), please refer to https://www.tensorflow.org/guide/function#controlling_retracing and https://www.tensorflow.org/api_docs/python/tf/function for  more details.\n",
      "WARNING:tensorflow:6 out of the last 6 calls to <function TensorFlowTrainer.make_train_function.<locals>.one_step_on_iterator at 0x70fa209bac20> triggered tf.function retracing. Tracing is expensive and the excessive number of tracings could be due to (1) creating @tf.function repeatedly in a loop, (2) passing tensors with different shapes, (3) passing Python objects instead of tensors. For (1), please define your @tf.function outside of the loop. For (2), @tf.function has reduce_retracing=True option that can avoid unnecessary retracing. For (3), please refer to https://www.tensorflow.org/guide/function#controlling_retracing and https://www.tensorflow.org/api_docs/python/tf/function for  more details.\n",
      "step 100, training accuracy 0.7900000214576721\n",
      "step 200, training accuracy 0.8199999928474426\n",
      "step 300, training accuracy 0.9100000262260437\n",
      "step 400, training accuracy 0.9200000166893005\n",
      "step 500, training accuracy 0.9599999785423279\n",
      "step 600, training accuracy 0.9599999785423279\n",
      "step 700, training accuracy 0.9700000286102295\n",
      "step 800, training accuracy 0.9599999785423279\n",
      "step 900, training accuracy 0.9800000190734863\n",
      "step 1000, training accuracy 0.9900000095367432\n",
      "step 1100, training accuracy 0.9599999785423279\n",
      "step 1200, training accuracy 0.9900000095367432\n",
      "step 1300, training accuracy 0.9599999785423279\n",
      "step 1400, training accuracy 1.0\n",
      "step 1500, training accuracy 0.9800000190734863\n",
      "step 1600, training accuracy 0.9900000095367432\n",
      "step 1700, training accuracy 0.9900000095367432\n",
      "step 1800, training accuracy 0.9900000095367432\n",
      "step 1900, training accuracy 0.9900000095367432\n",
      "step 2000, training accuracy 0.9900000095367432\n",
      "Clean data accuracy: 0.9828000068664551\n",
      "Backdoor attack success rate: 0.9973999857902527\n"
     ]
    }
   ],
   "source": [
    "#攻击目标类别\n",
    "target = 0\n",
    "#trigger图案\n",
    "trigger = np.ones(shape=[1, 28, 28, 1], dtype=np.float32)\n",
    "#mask控制trigger位置\n",
    "mask = np.zeros(shape=[1, 28, 28, 1], dtype=np.float32)\n",
    "mask[:, 2:4, 2:4, :] = 1\n",
    "#数据集污染比例\n",
    "ratio = 0.1\n",
    "modelname = 'backdoor'\n",
    "train_backdoor_model(modelname, target, trigger, mask, ratio)"
   ]
  }
 ],
 "metadata": {
  "kernelspec": {
   "display_name": "AIenv",
   "language": "python",
   "name": "python3"
  },
  "language_info": {
   "codemirror_mode": {
    "name": "ipython",
    "version": 3
   },
   "file_extension": ".py",
   "mimetype": "text/x-python",
   "name": "python",
   "nbconvert_exporter": "python",
   "pygments_lexer": "ipython3",
   "version": "3.10.12"
  },
  "orig_nbformat": 4
 },
 "nbformat": 4,
 "nbformat_minor": 2
}
